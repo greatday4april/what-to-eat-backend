{
 "cells": [
  {
   "cell_type": "code",
   "execution_count": 160,
   "metadata": {
    "tags": []
   },
   "outputs": [],
   "source": [
    "from sklearn import feature_extraction\n",
    "from sklearn.feature_extraction.text import CountVectorizer \n",
    "from sklearn.feature_extraction.text import TfidfTransformer\n",
    "from sklearn.metrics.pairwise import linear_kernel\n",
    "\n",
    "import requests\n",
    "import json"
   ]
  },
  {
   "cell_type": "code",
   "execution_count": 161,
   "metadata": {},
   "outputs": [],
   "source": [
    "def get_restaurants_info():\n",
    "    # get resturants by location, should have parameters as location\n",
    "    headers = {\n",
    "    'x-rapidapi-host': \"us-restaurant-menus.p.rapidapi.com\",\n",
    "    'x-rapidapi-key': \"97fe65f894msh2b7de28891987d4p181282jsnf490e829c02a\",\n",
    "    }\n",
    "    querystring = {\"page\":\"1\"}\n",
    "    url2 =\"https://us-restaurant-menus.p.rapidapi.com/restaurants/search/geo?lat=40.688072&lon=-73.997385&distance=0.3\"\n",
    "    response_res = requests.request(\"GET\", url2, headers=headers, params=querystring)\n",
    "    restaurants_info_json = json.loads(response_res.text)\n",
    "\n",
    "    return restaurants_info_json"
   ]
  },
  {
   "cell_type": "code",
   "execution_count": 162,
   "metadata": {
    "tags": []
   },
   "outputs": [],
   "source": [
    "def get_ids_from_resonse(response_info_json):\n",
    "    # get 25 resturant ids from above response\n",
    "    if 'result' in response_info_json:\n",
    "        restaurants_data_list = restaurants_info_json['result']['data']\n",
    "        ids = map(lambda x: x['restaurant_id'], restaurants_data_list)\n",
    "        return list(ids)\n",
    "    else:\n",
    "        return []\n"
   ]
  },
  {
   "cell_type": "code",
   "execution_count": 163,
   "metadata": {},
   "outputs": [],
   "source": [
    "def remove_numbers(string):\n",
    "    # remove words that contain numbers\n",
    "    output = \"\"\n",
    "    words = string.split()\n",
    "    for word in words:\n",
    "        if word.isalpha():\n",
    "            output += \" \" + word\n",
    "    return output"
   ]
  },
  {
   "cell_type": "code",
   "execution_count": 164,
   "metadata": {},
   "outputs": [],
   "source": [
    "def get_restaurant_menu_items_from_ids(ids):\n",
    "    # for each id get its menu items string\n",
    "    menu_items = []\n",
    "    for id in ids:\n",
    "        menu_items_string = get_menu_items_string(id)\n",
    "        clean_menu_items_string = remove_numbers(menu_items_string)\n",
    "        menu_items.append(clean_menu_items_string)\n",
    "    \n",
    "    return menu_items"
   ]
  },
  {
   "cell_type": "code",
   "execution_count": 165,
   "metadata": {
    "scrolled": false,
    "tags": []
   },
   "outputs": [],
   "source": [
    "def get_menu_items_string(id):\n",
    "    #get menu items json by restaurant id\n",
    "    headers = {\n",
    "    'x-rapidapi-host': \"us-restaurant-menus.p.rapidapi.com\",\n",
    "    'x-rapidapi-key': \"97fe65f894msh2b7de28891987d4p181282jsnf490e829c02a\",\n",
    "    }\n",
    "    url = \"https://us-restaurant-menus.p.rapidapi.com/restaurant/\" + str(id) + \"/menuitems\"\n",
    "    response_menu = requests.request(\"GET\", url, headers=headers)\n",
    "    response_menu_json = json.loads(response_menu.text)\n",
    "    \n",
    "    # bonding all menu_item_name to form a description of the restaurant\n",
    "    menu_item_string = \"\"\n",
    "    if 'result' in response_menu_json:\n",
    "        for menu_item in response_menu_json['result']['data']:\n",
    "            menu_item_name = menu_item['menu_item_name']\n",
    "            menu_item_string += \" \" + menu_item_name\n",
    "       \n",
    "    return menu_item_string"
   ]
  },
  {
   "cell_type": "code",
   "execution_count": 166,
   "metadata": {
    "tags": []
   },
   "outputs": [],
   "source": [
    "def calc_similarities(restaurant_menus): \n",
    "    # form vector for each resturant\n",
    "    vectorizer = CountVectorizer(stop_words='english')\n",
    "    X = vectorizer.fit_transform(restaurant_menus)\n",
    "\n",
    "    print(vectorizer.get_feature_names())\n",
    "    # tf-idf on resturant menue matrix\n",
    "    transformer = TfidfTransformer()\n",
    "    tfidf = transformer.fit_transform(X)\n",
    "    tfidf_array = tfidf.toarray()\n",
    "\n",
    "    # calculate similarity with first resturant using cosine_similarity\n",
    "    target = tfidf_array[0]\n",
    "    similarities = linear_kernel([target], tfidf_array)\n",
    "\n",
    "    return similarities"
   ]
  },
  {
   "cell_type": "code",
   "execution_count": 167,
   "metadata": {},
   "outputs": [],
   "source": [
    "def rank_similarities(similarities, restaurant_ids):\n",
    "    # form pairs of similarity-id, and find most similar restaurants\n",
    "    similairties_ids = []\n",
    "    similairties_array = similarities[0]\n",
    "\n",
    "    for i in range(len(restaurant_ids)):\n",
    "        similarity = similairties_array[i]\n",
    "        id = restaurant_ids[i]\n",
    "        similairty_id = (similarity, id) # construct tuple with similarity first\n",
    "        similairties_ids.append(similairty_id)\n",
    "\n",
    "    similairties_ids.sort(reverse=True)\n",
    "\n",
    "    return similairties_ids"
   ]
  },
  {
   "cell_type": "code",
   "execution_count": 168,
   "metadata": {
    "tags": []
   },
   "outputs": [
    {
     "output_type": "stream",
     "name": "stdout",
     "text": "{'result': {'totalResults': 100, 'data': [{'geo': {'lon': -73.997385, 'lat': 40.688072}, 'hours': 'Mon-Thu: 11:30am-12am  Fri: 11:30am-2am  Sat: 10:30am-2am  Sun: 10:30am-12am', 'address': {'city': 'Brooklyn', 'formatted': '391 Henry St Brooklyn, NY 11201', 'street': '391 Henry St', 'state': 'NY', 'postal_code': '11201'}, 'restaurant_phone': '(718) 243-2522', 'restaurant_id': 274038, 'price_range': '', 'menus': [], 'price_range_100': 0, 'cuisines': ['Alcohol', 'Italian', 'Tapas'], 'restaurant_name': 'Bocca Lupo'}, {'geo': {'lon': -73.997466, 'lat': 40.688151}, 'hours': 'Mon-Thu: 11am-11pm  Fri-Sat: 11am-11:30am  Sun: 12pm-11pm', 'address': {'city': 'Brooklyn', 'formatted': '402 Henry St Brooklyn, NY 11201', 'street': '402 Henry St', 'state': 'NY', 'postal_code': '11201'}, 'restaurant_phone': '(718) 625-8583', 'restaurant_id': 354824, 'price_range': '$$', 'menus': [], 'price_range_100': 2, 'cuisines': ['Chinese'], 'restaurant_name': \"Chan's Golden City\"}, {'geo': {'lon': -73.997757, 'lat': 40.68758}, 'hours': 'Mon-Fri: 11:30am-11pm  Sat-Sun: 12pm-11pm', 'address': {'city': 'Brooklyn', 'formatted': '402 Henry St Brooklyn, NY 11201', 'street': '402 Henry St', 'state': 'NY', 'postal_code': '11201'}, 'restaurant_phone': '(718) 625-8585', 'restaurant_id': 379292, 'price_range': '$$', 'menus': [], 'price_range_100': 2, 'cuisines': ['Chinese'], 'restaurant_name': 'Happy Garden'}, {'geo': {'lon': -73.998054, 'lat': 40.687578}, 'hours': 'Daily: 5pm-12am', 'address': {'city': 'Brooklyn', 'formatted': '400 Henry St Brooklyn, NY 11201', 'street': '400 Henry St', 'state': 'NY', 'postal_code': '11201'}, 'restaurant_phone': '(347) 689-3122', 'restaurant_id': 364909, 'price_range': '$$$', 'menus': [], 'price_range_100': 3, 'cuisines': ['Argentinean', 'South American'], 'restaurant_name': 'Libertador'}, {'geo': {'lon': -73.995761, 'lat': 40.687798}, 'hours': 'Mon-Thu: 5pm-11pm  Fri: 5pm-12am  Sat: 11:30am-3:30pm+5pm-12am  Sun: 11:30am-3:30pm+5pm-10pm', 'address': {'city': 'Brooklyn', 'formatted': '268 Clinton St Brooklyn, NY 11201', 'street': '268 Clinton St', 'state': 'NY', 'postal_code': '11201'}, 'restaurant_phone': '(718) 422-0065', 'restaurant_id': 358697, 'price_range': '$$', 'menus': [], 'price_range_100': 2, 'cuisines': ['Spanish', 'Tapas'], 'restaurant_name': 'La Vara'}, {'geo': {'lon': -73.995636, 'lat': 40.687818}, 'hours': 'Mon-Wed: 7:30am-5:30pm  Thu-Fri: 7:30am-9pm  Sat-Sun: 8am-9pm', 'address': {'city': 'Brooklyn', 'formatted': '264 Clinton St Brooklyn, NY 11201', 'street': '264 Clinton St', 'state': 'NY', 'postal_code': '11201'}, 'restaurant_phone': '(718) 852-2212', 'restaurant_id': 273462, 'price_range': '', 'menus': [], 'price_range_100': 0, 'cuisines': ['Coffee &amp; Tea', 'Deli Food', 'Sandwiches'], 'restaurant_name': 'Ted & Honey'}, {'geo': {'lon': -73.999617, 'lat': 40.687053}, 'hours': '', 'address': {'city': 'Brooklyn', 'formatted': '118 Kane St Brooklyn, NY 11231', 'street': '118 Kane St', 'state': 'NY', 'postal_code': '11231'}, 'restaurant_phone': '(718) 237-4070', 'restaurant_id': 421671, 'price_range': '$$', 'menus': [], 'price_range_100': 2, 'cuisines': [], 'restaurant_name': 'Bonafide Delicatessen and Cafe'}, {'geo': {'lon': -73.996495, 'lat': 40.690212}, 'hours': 'Lunch:  Mon\\x96Fri 12:00pm - 2:30pm    Dinner:  Mon\\x96Thu: 5:30 pm\\x9610:00 pm  Fri-Sat: 5:30 pm\\x9610:30 pm  Sun: 5:00 pm\\x969:30 pm', 'address': {'city': 'Brooklyn', 'formatted': '333 Henry St Brooklyn, NY 11201', 'street': '333 Henry St', 'state': 'NY', 'postal_code': '11201'}, 'restaurant_phone': '(718) 260-8052', 'restaurant_id': 250281, 'price_range': '$', 'menus': [], 'price_range_100': 1, 'cuisines': ['Japanese', 'Sushi'], 'restaurant_name': 'HIBINO (Brooklyn)'}, {'geo': {'lon': -73.996278, 'lat': 40.690215}, 'hours': 'Mon-Fri: 5am-5pm  Sat: 5am-3pm  Sun: 5am-12pm', 'address': {'city': 'Brooklyn', 'formatted': '331 Henry St Brooklyn, NY 11201', 'street': '331 Henry St', 'state': 'NY', 'postal_code': '11201'}, 'restaurant_phone': '(718) 222-0708', 'restaurant_id': 478584, 'price_range': '$', 'menus': [], 'price_range_100': 1, 'cuisines': ['Sandwiches'], 'restaurant_name': 'Cobble Hill Canteen'}, {'geo': {'lon': -73.99646, 'lat': 40.690285}, 'hours': '', 'address': {'city': 'BROOKLYN', 'formatted': '331 Henry St BROOKLYN, NY 11201', 'street': '331 Henry St', 'state': 'NY', 'postal_code': '11201'}, 'restaurant_phone': '(718) 222-0708', 'restaurant_id': 250282, 'price_range': '', 'menus': [], 'price_range_100': 0, 'cuisines': ['American'], 'restaurant_name': \"Henry's Express\"}, {'geo': {'lon': -73.996324, 'lat': 40.690257}, 'hours': '', 'address': {'city': 'Brooklyn', 'formatted': '331 Henry St Brooklyn, NY 11201', 'street': '331 Henry St', 'state': 'NY', 'postal_code': '11201'}, 'restaurant_phone': '(571) 482-0570', 'restaurant_id': 483640, 'price_range': '', 'menus': [], 'price_range_100': 0, 'cuisines': [], 'restaurant_name': 'Key and Cup'}, {'geo': {'lon': -73.996248, 'lat': 40.690277}, 'hours': '', 'address': {'city': 'Brooklyn', 'formatted': '329 Henry St Brooklyn, NY 11201', 'street': '329 Henry St', 'state': 'NY', 'postal_code': '11201'}, 'restaurant_phone': '(718) 852-8630', 'restaurant_id': 445454, 'price_range': '$$$', 'menus': [], 'price_range_100': 3, 'cuisines': [], 'restaurant_name': 'Henry Public'}, {'geo': {'lon': -73.996248, 'lat': 40.690277}, 'hours': 'Mon-Thu: 5pm-2am  Fri: 5pm-4am  Sat: 11am-4am  Sun: 11am-2am', 'address': {'city': 'Brooklyn', 'formatted': '329 Henry St Brooklyn, NY 11201', 'street': '329 Henry St', 'state': 'NY', 'postal_code': '11201'}, 'restaurant_phone': '(718) 852-8630', 'restaurant_id': 478620, 'price_range': '$$', 'menus': [], 'price_range_100': 2, 'cuisines': ['American', 'Bar Food', 'Cocktails', 'Gastropub'], 'restaurant_name': 'Henry Public'}, {'geo': {'lon': -73.995223, 'lat': 40.690247}, 'hours': 'Wed-Sun: 11am-8:30pm', 'address': {'city': 'Brooklyn', 'formatted': '140 Atlantic Ave Brooklyn, NY 11201', 'street': '140 Atlantic Ave', 'state': 'NY', 'postal_code': '11201'}, 'restaurant_phone': '(718) 596-6594', 'restaurant_id': 478396, 'price_range': '$$', 'menus': [], 'price_range_100': 2, 'cuisines': ['Alcohol', 'Tapas'], 'restaurant_name': 'Pair'}, {'geo': {'lon': -73.996295, 'lat': 40.690754}, 'hours': 'Sun-Thu: 5:30pm-12am  Fri-Sat: 5:30pm-2am', 'address': {'city': 'Brooklyn', 'formatted': '110 Atlantic Ave Brooklyn, NY 11201', 'street': '110 Atlantic Ave', 'state': 'NY', 'postal_code': '11201'}, 'restaurant_phone': '(718) 596-3624', 'restaurant_id': 386818, 'price_range': '$$', 'menus': [], 'price_range_100': 2, 'cuisines': ['Cocktails'], 'restaurant_name': 'Long Island'}, {'geo': {'lon': -73.995881, 'lat': 40.69066}, 'hours': 'Mon-Thu: 11:30am-11pm  Fri: 11:30am-12am  Sat: 11am-12am  Sun: 11am-11pm  ', 'address': {'city': 'Brooklyn', 'formatted': '129 Atlantic Ave Brooklyn, NY 11215', 'street': '129 Atlantic Ave', 'state': 'NY', 'postal_code': '11215'}, 'restaurant_phone': '(718) 855-7775', 'restaurant_id': 250289, 'price_range': '$', 'menus': [], 'price_range_100': 1, 'cuisines': ['British (Traditional)'], 'restaurant_name': 'Atlantic ChipShop'}, {'geo': {'lon': -73.995647, 'lat': 40.690595}, 'hours': 'Tue-Sun: 4pm-10:30pm', 'address': {'city': 'BROOKLYN', 'formatted': '135 Atlantic Ave BROOKLYN, NY 11201', 'street': '135 Atlantic Ave', 'state': 'NY', 'postal_code': '11201'}, 'restaurant_phone': '(718) 797-1975', 'restaurant_id': 250287, 'price_range': '', 'menus': [], 'price_range_100': 0, 'cuisines': ['Spanish'], 'restaurant_name': 'La Mancha'}, {'geo': {'lon': -73.995019, 'lat': 40.690282}, 'hours': '', 'address': {'city': 'Brooklyn', 'formatted': '144 Atlantic Ave Brooklyn, NY 11201', 'street': '144 Atlantic Ave', 'state': 'NY', 'postal_code': '11201'}, 'restaurant_phone': '(718) 488-8886', 'restaurant_id': 490879, 'price_range': '', 'menus': [], 'price_range_100': 0, 'cuisines': [], 'restaurant_name': 'Sultan Moroccan, Mediterranean & Middle Eastern '}, {'geo': {'lon': -73.995618, 'lat': 40.690598}, 'hours': 'Mon-Thu: 4pm-12am  Fri: 12pm-1am  Sat: 10am-1am  Sun: 10am-12am', 'address': {'city': 'Brooklyn', 'formatted': '135 Atlantic Ave Brooklyn, NY 11201', 'street': '135 Atlantic Ave', 'state': 'NY', 'postal_code': '11201'}, 'restaurant_phone': '(347) 227-8337', 'restaurant_id': 365781, 'price_range': '$$', 'menus': [], 'price_range_100': 2, 'cuisines': ['Bistro', 'French'], 'restaurant_name': 'Chez Moi'}, {'geo': {'lon': -73.99529, 'lat': 40.69049}, 'hours': 'Dinner  Mon-Thu: 6pm-10:30pm  Fri: 6pm-11:30pm  Sat: 5pm-11:30pm  Sun: 5pm-10:30pm  Brunch  Sat-Sun: 11am-3pm ', 'address': {'city': 'Brooklyn', 'formatted': '127 Atlantic Ave Brooklyn, NY 11201', 'street': '127 Atlantic Ave', 'state': 'NY', 'postal_code': '11201'}, 'restaurant_phone': '', 'restaurant_id': 329617, 'price_range': '$$', 'menus': [], 'price_range_100': 2, 'cuisines': ['American (New)', 'Local/Organic', 'Vegetarian'], 'restaurant_name': 'Colonie'}, {'geo': {'lon': -73.993697, 'lat': 40.687243}, 'hours': '', 'address': {'city': 'Brooklyn', 'formatted': '194 Court St Brooklyn, NY 11231', 'street': '194 Court St', 'state': 'NY', 'postal_code': '11231'}, 'restaurant_phone': '', 'restaurant_id': 388881, 'price_range': '$', 'menus': [], 'price_range_100': 1, 'cuisines': ['Coffee &amp; Tea', 'Crepes', 'Desserts'], 'restaurant_name': 'The Cobble Creperie & Tea Spot'}, {'geo': {'lon': -74.001226, 'lat': 40.687858}, 'hours': 'Daily: 5:30pm-1am', 'address': {'city': 'Brooklyn', 'formatted': '115 Columbia St Brooklyn, NY 11231', 'street': '115 Columbia St', 'state': 'NY', 'postal_code': '11231'}, 'restaurant_phone': '(718) 797-4120', 'restaurant_id': 373386, 'price_range': '$', 'menus': [], 'price_range_100': 1, 'cuisines': ['Cocktails', 'Thai'], 'restaurant_name': 'Whiskey Soda Lounge'}, {'geo': {'lon': -73.99705, 'lat': 40.690983}, 'hours': 'Mon-Thu: 4pm-4am  Fri: 3pm-4am  Sat-Sun: 12pm-4am', 'address': {'city': 'Brooklyn', 'formatted': '97 Atlantic Ave Brooklyn, NY 11201', 'street': '97 Atlantic Ave', 'state': 'NY', 'postal_code': '11201'}, 'restaurant_phone': '(718) 488-0048', 'restaurant_id': 358606, 'price_range': '$', 'menus': [], 'price_range_100': 1, 'cuisines': ['Bar Food'], 'restaurant_name': 'Roebling Inn'}, {'geo': {'lon': -73.993761, 'lat': 40.687064}, 'hours': 'Sun-Thu: 11am-9pm  Fri-Sat: 11am-12am', 'address': {'city': 'Brooklyn', 'formatted': '200 Court St Brooklyn, NY 11201', 'street': '200 Court St', 'state': 'NY', 'postal_code': '11201'}, 'restaurant_phone': '(347) 799-1673', 'restaurant_id': 305774, 'price_range': '$', 'menus': [], 'price_range_100': 1, 'cuisines': ['Middle Eastern'], 'restaurant_name': 'Darna Falafel'}, {'geo': {'lon': -73.993672, 'lat': 40.687261}, 'hours': '', 'address': {'city': 'Brooklyn', 'formatted': '194 Court St Brooklyn, NY 11201', 'street': '194 Court St', 'state': 'NY', 'postal_code': '11201'}, 'restaurant_phone': '(347) 748-2287', 'restaurant_id': 504923, 'price_range': '', 'menus': [], 'price_range_100': 0, 'cuisines': [], 'restaurant_name': 'Jus by Julie'}], 'numResults': 25, 'page': 1, 'pages': 5, 'morePages': True}}\n"
    }
   ],
   "source": [
    "\n",
    "restaurants_info_json = get_restaurants_info()\n",
    "print(restaurants_info_json)"
   ]
  },
  {
   "cell_type": "code",
   "execution_count": 169,
   "metadata": {
    "tags": []
   },
   "outputs": [
    {
     "output_type": "stream",
     "name": "stdout",
     "text": "[274038, 354824, 379292, 364909, 358697, 273462, 421671, 250281, 478584, 250282, 483640, 445454, 478620, 478396, 386818, 250289, 250287, 490879, 365781, 329617, 388881, 373386, 358606, 305774, 504923]\n"
    }
   ],
   "source": [
    "restaurant_ids = get_ids_from_resonse(restaurants_info_json)\n",
    "print(restaurant_ids)"
   ]
  },
  {
   "cell_type": "code",
   "execution_count": 170,
   "metadata": {
    "tags": []
   },
   "outputs": [
    {
     "output_type": "stream",
     "name": "stdout",
     "text": "[' Roasted Beets Tarragon Chicken Salad Fresh Mozzarella Birra Steamed Clams Red Wine Poached Pear Chocolate Torte Bourbon Basilico Rosato Di Bastianich Albana Di Fattoria Monticino Rosso Umbria Orvieto Barbi Sardegna Santadi Lombardia Rosso Di Sandro Fay Sardegna Cannonau Sella Mosca Stagione Roasted Vegetables Goat Cheese Marinated Olives Creamy Mushroom Leek Zucchini Eggs In Spicy Tomato Sauce Roasted Vegetables Goat Cheese Panino Italian Rob Roy Hard Pumpkin Oregon Anderson Valley California Emilia Tentua Pederzana', ' Crab Rangoon Egg Drop Soup House Special Chicken Shrimp Vegetable House Special Sweet Sour Chicken Roast Pork Szechuan Style Moo Shu Shrimp Eggplant In Garlic Sauce Fried Chicken Wings Honey Chicken Wings Sesame Chicken Wings General Chicken Wings Triple Crown LC Spare Ribs LC String Bean In Garlic Sauce Pan Fried Wonton Steamed Dumpling Vegetable Chicken Beef Vegetable Steamed Mixed Vegetable', ' Fried Wontons Pan Fried Wontons with Garlic Sauce Hot and Sour Soup Shrimp Chow Mein Vegetable Fried Rice Vegetable Lo Mein Roast Pork Chow Fun Shrimp Mei Fun Mushroom Egg Foo Young Chicken with Broccoli Chicken with Black Bean Sauce Beef with Pepper and Tomato Sauteed Chinese Broccoli Shrimp with Broccoli in Garlic Sauce Szechuan Shrimp Shrimp with Eggplant in Garlic Sauce Bean Curds with Mixed Vegetables in Black Bean Sauce General Bean Curds Chicken with Broccoli Combo Chicken Egg Foo Young Combo Roast Pork Egg Foo Young Combo Curry Beef with Onion Combo Hunan Beef Combo Bottled Water Chicken Yat Gaw Mein Soup', ' Pechugas De Pollo Medio Pollo Criollo Tirado De Carne Ensalada De Espinaca Mixta Our Famous French Fries Provenzal Spinach Humita Provoleta Tiradi De Tuna Ensalada Verde Ensalada De Lentejas Y Queso De Cabra Spaghetti Envuelto De Entrana Ensalada De Pera Y Arugula Pasta Con Mariscos Chicken Potatoes Calamari Frito Ensalada De Naranja Milanesa De Pollo O Carne Homemade Green Papardelle Bolognese Ham Cheese Beef Ensalada De La Casa', ' Gurullos Garbanzo Rinchoncillo Salpicon Ponte Vedra Gessami Quesos Patatas Bravas Mollete Lagar De Costa Castellroig Rosat Tres Picos Raya En Adobo Pollo Asado Natillas De Arroz Con Leche Mont Marcal Garbanzos Fritos Egipcio Don PX Gran Reserva Pimientos De Gernika Ensaimaidas Bocata De Pescado En Adobo El Quim Mencos Sardina A L A Antigua Berenjena Con Miel Pan Amb Tomaca', ' Baby Spinach Salad Quinoa Salad T H Signature Tomato Soup And Pimento Grilled Cheese Solar Das Boucas Huevos Rancheros Field Green Deviled Eggs Stone Levitation Pork BBQ Grilled Flatbread Captain Lawrence Draft Porter Chono Clava Red Neck Heirloom Tomato Fried Cornmeal Crusted House Cured Pickles Six Point Draft Nero Scuro Le Fou Green Bean Apple Black Bean Roasted Corn Veggie Burger Blue Plate House Made Granola', ' Latte Iced Coffee Real Cola Snapple Reubenman Wrap Pellegrino Mineral Water UTZ Tortilla Chips Dayquil Packet Black n White Cookie Side of French Fries Herbal Tea Cappuccino Espresso Root Beer Fentimans Botanically Brewed Ginger Beer Purity Organic Juice Eggs and Avocado Platter Smoked Salmon Platter Bonafier Blast Sandwich Honey Club Sandwich Bonafide Icon Sandwich Veggie Burger Nesquick UTZ Cream and Onion Chips Hot Cocoa', ' Spanish Mackerel Sushi Anago Sushi Salmon Sashimi California Roll Tuna Tataki Tonkatsu Spanish Mackerel Sashimi Anago Sashimi Yellowtail Jalapeno Roll Eel Avocado Roll Avocado Cucumber Roll Obento Box Scallop Sashimi Tobiko Sashimi Anago Sashimi Vegetable Roll Edamame Ikura Sushi Spicy Scallop Roll Sushi Rice Tuna Tataki Salad Seaweed Salad Kamo Salad Hibino Teriyaki Chicken Shrimp Toji Maki', ' Platter Chicken Salad Beef Burger Chicken Salad French Fries Cheese Burger Deluxe Gyro On Pita Bacon Egg On Any Bread Eggs On Any Bread Cheese Omelette Western Omelette Pancakes Toast Cold Cereal White Turkey Breast Cheese Lettuce Or Tomato Sandwich Shrimp Teriyaki Chicken Marsala Egg Salad Cole Slaw Macaroni Salad Boiled Egg Hot Dog On A Bun', ' Toast with Cream Cheese Corn Beef Swiss Cheese Cheese Hero Turkey Burger Deluxe Pastrami Italian Sausage and Pepper Fried Fish Eggplant Lasagna Mash Potato Cottage Cheese Coffee Cappuccino Cheese and Egg Grilled Cheese with Sausage Eggs with Bacon and Cheese Eggs Any Style Pastrami Meat Ball Macaroni Salad Ham and Egg Cold Cereal with Milk Toast with Butter and Jelly Crab Meat Salad', ' Espresso Cappuccino Grilled Maple Turkey Cold Brew Coffee Cup of Gourmet Soup Grilled Roast Beef Sandwich Soup and Sandwich Americano Soup and Salad with Cheesy Baguette Latte Cookie Drip Coffee Breakfast Sandwich Croissant Muffin Dough Donut', ' Daily Vegetable Egg Sandwich with Bacon Hamburger Sandwich Lettuce Watercress Salad Hamburger Sandwich Cheese Bacon Cheese Plate Millet Graincake Sweet Salty Toast Egg Sandwich Pan Potatoes Turkey Leg Sandwich Extra Toast Salad with Hardboiled Egg Smoked Almonds Wilkinsons Grilled Cheese Sandwich Hamburger Sandwich Berkshire Bacon Berkshire Pork Sausage Baked Macaroni Radishes Egg Sandwich with Cheese Hamburger Sandwich Radishes Hamburger Sandwich Cheese Bacon Fresh Oysters', ' Turkey Leg Sandwich Breakfast Cocktail Extra Toast Cheese Plate Selections Sparkling Blanc De Blanc Millet Graincake Egg Sandwich Hamburger Sandwich Bloody Henry Ward Six Daily Vegetable Juniper Pickles Grilled Cheese With Apple Slices Lettuce Watercress Salad Potato Chips Velvet Oats Fresh Juice Grilled Cheese Sandwich House White Red Lemberger Egg Sandwich Cabernet Sauvignon Wide Awake Egg Pickle Sandwich Hamburger Sandwich', ' Croque Madame Reggiano Biscuit Tamie Gruyere Tart Fondue Pecorino', '', ' Full English Breakfast Brunch Grilled Tomatoes Soup of the Day Mac and Cheese Cod and Jumbo Shrimp Battered Jumbo Shrimp Side of Macaroni Cheese Deep Fried Pizza Meaty Mac and Cheese Mac and Cheese Side of Cauliflower Cheese Side of Housemade Bread Roll and Butter Spotted Dick Seafood Chowder Scotch Egg Fish Fingers Spinach Salad Stilton Salad Bread and Butter Pudding Beef Shepherds Pie Haddock and Chips Fish Sandwich Steak and Kidney Pie Cod and Salmon Fishcakes Lunch', ' Choricillo Sopa De Ajo Bacalao A La Gallega Langosta Hervida O Al Horno Tarta De Chocolate La Mancha Salchichon Brazo De Gitano Tetilla Combination of Cheeses Bacalao A La Vizcaina Broiled Salmon Sirloin Steak Fruta Del Dia Vieiras La Mancha Cappuccino Pulpo A La Gallega Morcilla Jamon Serrano Tortilla Espanola Caldo Gallego Ternera Extremena Ternera A La Plancha Natilla Chocolate Ice Cream Regular Tea', ' Falafel and Hummus Greek Salad Beef Over Salad Small Fatoosh Salad Chicken Shawarma Sandwich Mezza for Vegetable Couscous Chicken Tagine Chicken Shawarma Wrap Falafel Wrap Shrimp Kebab Sandwich Ice Cream Babaganouj Falafel and Babaganouj Salmon Kabab Platter Chicken Tagine Platter Falafel Appetizer Falafel and Babaghanouj Salmon Kebab Platter Lamb Couscous Babaghanouj Wrap Chicken Shawarma Sandwich Shish Lamb Kebab Sandwich Falafel Sandwich Lady Finger', ' Nero Pinot Noir Beef Carpaccio Escargots De Bourgogne Croquettes Steak Tartare Croque Monsieur Fraise Charcuterie Lollipop Kale Soleil French Toast Smoked Salmon Club Pomme Amour Moutarde NY Strip Steak Frites Tout Nu Hamburger La Colombe Organic Blend Baby Mixed Greens Bellini Melon De Bourgogne Cabernet Beets Goat Cheese', ' Kind Of Blue Sticky Date Cake Blanc Raw House Made Ricotta Landaff Brussels Sprouts Roasted Salsify Octopus Ben Nevis Heirloom Grits Square Grapefruit Chili Margarita Cabernet Franc Winter Squash Soup Whole Market Fish Agnolotti Almond Granola Leek Gruyere Scramble Hot Napolitana Bloody Mary Ruby Port Gruet Shrimp Grits', ' Egg White Mushrooms Grilled Onions Berry Slam Mmmtella Missy Brown Jaw Drop Spinach White Or Whole Eggs Dulce Wild Tomato Grilled Chicken Breast Of A Kind', ' Plaa Meuk Ping Pok Pok Bloody Mary Hunny Naam Manao Steve Smith Teas Asahi Black Cha Yen Red Peanuts Jin Tup Roht Dii Tamarind Whiskey Sour Apple Gin Rickey Whiskey Hot Toddy Singha Tiger Red Cha Manao Plaa Lek Thawt Krob Huu Muu Thawt Kai Saam Yang Three Ways Sai Muu Thawt Yam Plaa Meuk Muu Sawan Tom Saep Muu Pok Pok Gin And Tonic Mango Alexander', ' Soft Pretzel Pennant Ale Cheese And Crackers Hurricane Kitty Lager Dark Chocolate Covered Almonds Hennepin Budweiser Heineken Cashews Amstel Light Redbridge Fresh Chester Paulaner Handmade Australian Witte Frankfurter Steak Mince Pie Curry Vegetarian Dark Chocolate Covered Pretzels Brownstone Corona Spinach Pie Sweet Action Pilsner', ' Inherit Carrot Juice Black Lentil Soup Balady Salad Lamb Shawarma Platter House Salad Turkish Salad Portobello Mushrooms Egg BLT Moroccan Omelet Wrap Sweet Potato Fries Whole Wheat Pita Lemonade Energy Boost Juice Caesar Salad Grilled Vegetable Salald Balady Dijaj Sandwich Darna Falafel Sandwich Chicken Platter Lady Finger Banana Date Smoothie Green Clean Juice Hangover Solver Juice Dreamy Berries Smoothie Bravo Avocado Smoothie Falafel Salad', ' Sweet Spin Juice Greens Juice Hummus Wrap Salad Egg White Salad Kale Falafel Salad Nicoise Salad Pb and Jus Ginger Citrus Carrot Turmeric Soup Detox Broth Mint Juice Spicy Lemonade Juice Go Nuts and Bananas Juice Day Glow Juice Almond Breeze Juice Choco Nana Juice Probiotic Cold Vanilla Flavor Oregano Feta Salad Morning Glory Juice Berry Strong Protein Juice Pumpkin and Coconut Bisque Kale Salad with Tempeh and Grilled Veggies All Green Everything Juice Crush Juice']\n"
    }
   ],
   "source": [
    "restaurant_menus = get_restaurant_menu_items_from_ids(restaurant_ids)\n",
    "print(restaurant_menus)"
   ]
  },
  {
   "cell_type": "code",
   "execution_count": 171,
   "metadata": {
    "tags": []
   },
   "outputs": [
    {
     "output_type": "stream",
     "name": "stdout",
     "text": "['action', 'adobo', 'agnolotti', 'ajo', 'al', 'albana', 'ale', 'alexander', 'almond', 'almonds', 'amb', 'americano', 'amour', 'amstel', 'anago', 'anderson', 'antigua', 'appetizer', 'apple', 'arroz', 'arugula', 'asado', 'asahi', 'australian', 'avocado', 'awake', 'babaganouj', 'babaghanouj', 'baby', 'bacalao', 'bacon', 'baguette', 'baked', 'balady', 'ball', 'banana', 'bananas', 'barbi', 'basilico', 'bastianich', 'battered', 'bbq', 'bean', 'beef', 'beer', 'beets', 'bellini', 'ben', 'berenjena', 'berkshire', 'berries', 'berry', 'birra', 'biscuit', 'bisque', 'black', 'blanc', 'blast', 'blend', 'bloody', 'blt', 'blue', 'bocata', 'boiled', 'bolognese', 'bonafide', 'bonafier', 'boost', 'botanically', 'bottled', 'boucas', 'bourbon', 'bourgogne', 'box', 'bravas', 'bravo', 'brazo', 'bread', 'breakfast', 'breast', 'breeze', 'brew', 'brewed', 'broccoli', 'broiled', 'broth', 'brown', 'brownstone', 'brunch', 'brussels', 'budweiser', 'bun', 'burger', 'butter', 'cabernet', 'cabra', 'caesar', 'cake', 'calamari', 'caldo', 'california', 'cannonau', 'cappuccino', 'captain', 'carne', 'carpaccio', 'carrot', 'casa', 'cashews', 'castellroig', 'cauliflower', 'cereal', 'cha', 'charcuterie', 'cheese', 'cheeses', 'cheesy', 'chester', 'chicken', 'chili', 'chinese', 'chips', 'choco', 'chocolate', 'chono', 'choricillo', 'chow', 'chowder', 'citrus', 'clams', 'clava', 'clean', 'club', 'cocktail', 'cocoa', 'coconut', 'cod', 'coffee', 'cola', 'cold', 'cole', 'colombe', 'combination', 'combo', 'cookie', 'corn', 'cornmeal', 'corona', 'costa', 'cottage', 'couscous', 'covered', 'crab', 'crackers', 'cream', 'creamy', 'criollo', 'croissant', 'croque', 'croquettes', 'crown', 'crush', 'crusted', 'cucumber', 'cup', 'curds', 'cured', 'curry', 'daily', 'dark', 'darna', 'das', 'date', 'day', 'dayquil', 'deep', 'del', 'deluxe', 'detox', 'deviled', 'di', 'dia', 'dick', 'dii', 'dijaj', 'dog', 'don', 'donut', 'dough', 'draft', 'dreamy', 'drip', 'drop', 'dulce', 'dumpling', 'edamame', 'eel', 'egg', 'eggplant', 'eggs', 'egipcio', 'el', 'emilia', 'en', 'energy', 'english', 'ensaimaidas', 'ensalada', 'entrana', 'envuelto', 'escargots', 'espanola', 'espinaca', 'espresso', 'extra', 'extremena', 'falafel', 'famous', 'fatoosh', 'fattoria', 'fay', 'fentimans', 'feta', 'field', 'finger', 'fingers', 'fish', 'fishcakes', 'flatbread', 'flavor', 'fondue', 'foo', 'fou', 'fraise', 'franc', 'frankfurter', 'french', 'fresh', 'fried', 'fries', 'frites', 'frito', 'fritos', 'fruta', 'fun', 'gallega', 'gallego', 'garbanzo', 'garbanzos', 'garlic', 'gaw', 'general', 'gernika', 'gessami', 'gin', 'ginger', 'gitano', 'glory', 'glow', 'goat', 'gourmet', 'graincake', 'gran', 'granola', 'grapefruit', 'greek', 'green', 'greens', 'grilled', 'grits', 'gruet', 'gruyere', 'gurullos', 'gyro', 'haddock', 'ham', 'hamburger', 'handmade', 'hangover', 'hard', 'hardboiled', 'heineken', 'heirloom', 'hennepin', 'henry', 'herbal', 'hero', 'hervida', 'hibino', 'homemade', 'honey', 'horno', 'hot', 'house', 'housemade', 'huevos', 'humita', 'hummus', 'hunan', 'hunny', 'hurricane', 'huu', 'ice', 'iced', 'icon', 'ikura', 'inherit', 'italian', 'jalapeno', 'jamon', 'jaw', 'jelly', 'jin', 'juice', 'jumbo', 'juniper', 'jus', 'kabab', 'kai', 'kale', 'kamo', 'kebab', 'kidney', 'kind', 'kitty', 'krob', 'la', 'lady', 'lagar', 'lager', 'lamb', 'landaff', 'langosta', 'lasagna', 'latte', 'lawrence', 'lc', 'le', 'leche', 'leek', 'leg', 'lek', 'lemberger', 'lemonade', 'lentejas', 'lentil', 'lettuce', 'levitation', 'light', 'lo', 'lollipop', 'lombardia', 'lunch', 'mac', 'macaroni', 'mackerel', 'madame', 'maki', 'manao', 'mancha', 'mango', 'maple', 'marcal', 'margarita', 'marinated', 'mariscos', 'market', 'marsala', 'mary', 'mash', 'meat', 'meaty', 'medio', 'mei', 'mein', 'melon', 'mencos', 'meuk', 'mezza', 'miel', 'milanesa', 'milk', 'millet', 'mince', 'mineral', 'mint', 'missy', 'mixed', 'mixta', 'mmmtella', 'mollete', 'monsieur', 'mont', 'monticino', 'moo', 'morcilla', 'morning', 'moroccan', 'mosca', 'moutarde', 'mozzarella', 'muffin', 'mushroom', 'mushrooms', 'muu', 'naam', 'nana', 'napolitana', 'naranja', 'natilla', 'natillas', 'neck', 'nero', 'nesquick', 'nevis', 'nicoise', 'noir', 'nu', 'nuts', 'ny', 'oats', 'obento', 'octopus', 'olives', 'omelet', 'omelette', 'onion', 'onions', 'oregano', 'oregon', 'organic', 'orvieto', 'oysters', 'packet', 'pan', 'pancakes', 'panino', 'papardelle', 'pasta', 'pastrami', 'patatas', 'paulaner', 'pb', 'peanuts', 'pear', 'pechugas', 'pecorino', 'pederzana', 'pellegrino', 'pennant', 'pepper', 'pera', 'pescado', 'pickle', 'pickles', 'picos', 'pie', 'pilsner', 'pimento', 'pimientos', 'ping', 'pinot', 'pita', 'pizza', 'plaa', 'plancha', 'plate', 'platter', 'poached', 'point', 'pok', 'pollo', 'pomme', 'ponte', 'pork', 'port', 'porter', 'portobello', 'potato', 'potatoes', 'pretzel', 'pretzels', 'probiotic', 'protein', 'provenzal', 'provoleta', 'pudding', 'pulpo', 'pumpkin', 'purity', 'px', 'queso', 'quesos', 'quim', 'quinoa', 'radishes', 'rancheros', 'rangoon', 'raw', 'raya', 'real', 'red', 'redbridge', 'reggiano', 'regular', 'reserva', 'reubenman', 'ribs', 'rice', 'rickey', 'ricotta', 'rinchoncillo', 'roast', 'roasted', 'rob', 'roht', 'roll', 'root', 'rosat', 'rosato', 'rosso', 'roy', 'ruby', 'saam', 'saep', 'sai', 'salad', 'salald', 'salchichon', 'salmon', 'salpicon', 'salsify', 'salty', 'sandro', 'sandwich', 'santadi', 'sardegna', 'sardina', 'sashimi', 'sauce', 'sausage', 'sauteed', 'sauvignon', 'sawan', 'scallop', 'scotch', 'scramble', 'scuro', 'seafood', 'seaweed', 'selections', 'sella', 'serrano', 'sesame', 'shawarma', 'shepherds', 'shish', 'shrimp', 'shu', 'signature', 'singha', 'sirloin', 'slam', 'slaw', 'slices', 'small', 'smith', 'smoked', 'smoothie', 'snapple', 'soft', 'solar', 'soleil', 'solver', 'sopa', 'soup', 'sour', 'spaghetti', 'spanish', 'spare', 'sparkling', 'special', 'spicy', 'spin', 'spinach', 'spotted', 'sprouts', 'square', 'squash', 'stagione', 'steak', 'steamed', 'steve', 'sticky', 'stilton', 'stone', 'string', 'strip', 'strong', 'style', 'sushi', 'sweet', 'swiss', 'szechuan', 'tagine', 'tamarind', 'tamie', 'tarragon', 'tart', 'tarta', 'tartare', 'tataki', 'tea', 'teas', 'tempeh', 'tentua', 'teriyaki', 'ternera', 'tetilla', 'thawt', 'tiger', 'tiradi', 'tirado', 'toast', 'tobiko', 'toddy', 'toji', 'tom', 'tomaca', 'tomato', 'tomatoes', 'tonic', 'tonkatsu', 'torte', 'tortilla', 'tout', 'tres', 'triple', 'tuna', 'tup', 'turkey', 'turkish', 'turmeric', 'umbria', 'utz', 'valley', 'vanilla', 'vedra', 'vegetable', 'vegetables', 'vegetarian', 'veggie', 'veggies', 'velvet', 'verde', 'vieiras', 'vizcaina', 'ward', 'water', 'watercress', 'ways', 'western', 'wheat', 'whiskey', 'white', 'wide', 'wild', 'wilkinsons', 'wine', 'wings', 'winter', 'witte', 'wonton', 'wontons', 'wrap', 'yam', 'yang', 'yat', 'yellowtail', 'yen', 'young', 'zucchini']\n[[1.         0.06197235 0.06456451 0.01035802 0.         0.07398441\n  0.00637358 0.02339837 0.07531045 0.0905988  0.00479673 0.04163718\n  0.04380102 0.         0.         0.04326367 0.01636988 0.0243772\n  0.0502595  0.04758471 0.03250988 0.01181439 0.03957911 0.01939806\n  0.02713425]]\n"
    }
   ],
   "source": [
    "similairties = calc_similarities(restaurant_menus)\n",
    "print(similairties)"
   ]
  },
  {
   "cell_type": "code",
   "execution_count": 172,
   "metadata": {
    "tags": []
   },
   "outputs": [
    {
     "output_type": "stream",
     "name": "stdout",
     "text": "[(0.9999999999999997, 274038), (0.09059879574957719, 250282), (0.07531045153488693, 478584), (0.0739844116888645, 273462), (0.06456450745835696, 379292), (0.06197235189790897, 354824), (0.050259502715598994, 365781), (0.04758470931614692, 329617), (0.04380102067123827, 478620), (0.04326367221675731, 250289), (0.041637182759819716, 445454), (0.03957910832875771, 358606), (0.03250987586895601, 388881), (0.02713424831984004, 504923), (0.024377203696405857, 490879), (0.02339837216381761, 250281), (0.019398063437529853, 305774), (0.016369882949216267, 250287), (0.011814389328888028, 373386), (0.010358024970292975, 364909), (0.00637358291054111, 421671), (0.004796730506625033, 483640), (0.0, 478396), (0.0, 386818), (0.0, 358697)]\n"
    }
   ],
   "source": [
    "similairties_ids = rank_similarities(similairties, restaurant_ids)\n",
    "print(similairties_ids)"
   ]
  },
  {
   "cell_type": "code",
   "execution_count": null,
   "metadata": {},
   "outputs": [],
   "source": []
  }
 ],
 "metadata": {
  "kernelspec": {
   "display_name": "Python 3",
   "language": "python",
   "name": "python3"
  },
  "language_info": {
   "codemirror_mode": {
    "name": "ipython",
    "version": 3
   },
   "file_extension": ".py",
   "mimetype": "text/x-python",
   "name": "python",
   "nbconvert_exporter": "python",
   "pygments_lexer": "ipython3",
   "version": "3.8.2-final"
  }
 },
 "nbformat": 4,
 "nbformat_minor": 4
}