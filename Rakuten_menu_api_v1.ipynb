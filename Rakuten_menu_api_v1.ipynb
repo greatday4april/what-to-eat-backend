{
 "cells": [
  {
   "cell_type": "code",
   "execution_count": 29,
   "metadata": {
    "tags": []
   },
   "outputs": [],
   "source": [
    "from sklearn import feature_extraction\n",
    "from sklearn.feature_extraction.text import CountVectorizer \n",
    "from sklearn.feature_extraction.text import TfidfTransformer\n",
    "from sklearn.metrics.pairwise import linear_kernel\n",
    "\n",
    "import requests\n",
    "import json"
   ]
  },
  {
   "cell_type": "code",
   "execution_count": 30,
   "metadata": {},
   "outputs": [],
   "source": [
    "def get_restaurants_info():\n",
    "    # get resturants by location, should have parameters as location\n",
    "    headers = {\n",
    "    'x-rapidapi-host': \"us-restaurant-menus.p.rapidapi.com\",\n",
    "    'x-rapidapi-key': \"97fe65f894msh2b7de28891987d4p181282jsnf490e829c02a\",\n",
    "    }\n",
    "    querystring = {\"page\":\"1\"}\n",
    "    url2 =\"https://us-restaurant-menus.p.rapidapi.com/restaurants/search/geo?lat=40.688072&lon=-73.997385&distance=0.3\"\n",
    "    response_res = requests.request(\"GET\", url2, headers=headers, params=querystring)\n",
    "    restaurants_info_json = json.loads(response_res.text)\n",
    "\n",
    "    return restaurants_info_json"
   ]
  },
  {
   "cell_type": "code",
   "execution_count": 31,
   "metadata": {
    "tags": []
   },
   "outputs": [],
   "source": [
    "def get_ids_from_resonse(response_info_json):\n",
    "    # get 25 resturant ids from above response\n",
    "    if 'result' in response_info_json:\n",
    "        restaurants_data_list = restaurants_info_json['result']['data']\n",
    "        ids = map(lambda x: x['restaurant_id'], restaurants_data_list)\n",
    "        return list(ids)\n",
    "    else:\n",
    "        return []\n"
   ]
  },
  {
   "cell_type": "code",
   "execution_count": 32,
   "metadata": {},
   "outputs": [],
   "source": [
    "def remove_numbers(string):\n",
    "    # remove words that contain numbers\n",
    "    output = \"\"\n",
    "    words = string.split()\n",
    "    for word in words:\n",
    "        if word.isalpha():\n",
    "            output += \" \" + word\n",
    "    return output"
   ]
  },
  {
   "cell_type": "code",
   "execution_count": 33,
   "metadata": {},
   "outputs": [],
   "source": [
    "def get_restaurant_menu_items_from_ids(ids):\n",
    "    # for each id get its menu items string\n",
    "    menu_items = []\n",
    "    for id in ids:\n",
    "        menu_items_string = get_menu_items_string(id)\n",
    "        clean_menu_items_string = remove_numbers(menu_items_string)\n",
    "        menu_items.append(clean_menu_items_string)\n",
    "    \n",
    "    return menu_items"
   ]
  },
  {
   "cell_type": "code",
   "execution_count": 34,
   "metadata": {
    "scrolled": false,
    "tags": []
   },
   "outputs": [],
   "source": [
    "def get_menu_items_string(id):\n",
    "    #get menu items json by restaurant id\n",
    "    headers = {\n",
    "    'x-rapidapi-host': \"us-restaurant-menus.p.rapidapi.com\",\n",
    "    'x-rapidapi-key': \"97fe65f894msh2b7de28891987d4p181282jsnf490e829c02a\",\n",
    "    }\n",
    "    url = \"https://us-restaurant-menus.p.rapidapi.com/restaurant/\" + str(id) + \"/menuitems\"\n",
    "    response_menu = requests.request(\"GET\", url, headers=headers,)\n",
    "    response_menu_json = json.loads(response_menu.text)\n",
    "    \n",
    "    # bonding all menu_item_name to form a description of the restaurant\n",
    "    menu_item_string = \"\"\n",
    "    if 'result' in response_menu_json:\n",
    "        for menu_item in response_menu_json['result']['data']:\n",
    "            # menu_item_name = menu_item['menu_item_name']\n",
    "            menu_item_description = menu_item['menu_item_description']\n",
    "            menu_item_string += \" \" + menu_item_description\n",
    "    return menu_item_string"
   ]
  },
  {
   "cell_type": "code",
   "execution_count": 35,
   "metadata": {
    "tags": []
   },
   "outputs": [],
   "source": [
    "def calc_similarities(restaurant_menus): \n",
    "    # form vector for each resturant\n",
    "    vectorizer = CountVectorizer(stop_words='english')\n",
    "    X = vectorizer.fit_transform(restaurant_menus)\n",
    "\n",
    "    print(vectorizer.get_feature_names())\n",
    "    # tf-idf on resturant menue matrix\n",
    "    transformer = TfidfTransformer()\n",
    "    tfidf = transformer.fit_transform(X)\n",
    "    tfidf_array = tfidf.toarray()\n",
    "\n",
    "    # calculate similarity with first resturant using cosine_similarity\n",
    "    target = tfidf_array[0]\n",
    "    similarities = linear_kernel([target], tfidf_array)\n",
    "\n",
    "    return similarities"
   ]
  },
  {
   "cell_type": "code",
   "execution_count": 36,
   "metadata": {},
   "outputs": [],
   "source": [
    "def rank_similarities(similarities, restaurant_ids):\n",
    "    # form pairs of similarity-id, and find most similar restaurants\n",
    "    similairties_ids = []\n",
    "    similairties_array = similarities[0]\n",
    "\n",
    "    for i in range(len(restaurant_ids)):\n",
    "        similarity = similairties_array[i]\n",
    "        id = restaurant_ids[i]\n",
    "        similairty_id = (similarity, id) # construct tuple with similarity first\n",
    "        similairties_ids.append(similairty_id)\n",
    "\n",
    "    similairties_ids.sort(reverse=True)\n",
    "\n",
    "    return similairties_ids"
   ]
  },
  {
   "cell_type": "code",
   "execution_count": 37,
   "metadata": {
    "tags": []
   },
   "outputs": [
    {
     "output_type": "stream",
     "name": "stdout",
     "text": "{'result': {'totalResults': 100, 'data': [{'geo': {'lon': -73.997385, 'lat': 40.688072}, 'hours': 'Mon-Thu: 11:30am-12am  Fri: 11:30am-2am  Sat: 10:30am-2am  Sun: 10:30am-12am', 'address': {'city': 'Brooklyn', 'formatted': '391 Henry St Brooklyn, NY 11201', 'street': '391 Henry St', 'state': 'NY', 'postal_code': '11201'}, 'restaurant_phone': '(718) 243-2522', 'restaurant_id': 274038, 'price_range': '', 'menus': [], 'price_range_100': 0, 'cuisines': ['Alcohol', 'Italian', 'Tapas'], 'restaurant_name': 'Bocca Lupo'}, {'geo': {'lon': -73.997466, 'lat': 40.688151}, 'hours': 'Mon-Thu: 11am-11pm  Fri-Sat: 11am-11:30am  Sun: 12pm-11pm', 'address': {'city': 'Brooklyn', 'formatted': '402 Henry St Brooklyn, NY 11201', 'street': '402 Henry St', 'state': 'NY', 'postal_code': '11201'}, 'restaurant_phone': '(718) 625-8583', 'restaurant_id': 354824, 'price_range': '$$', 'menus': [], 'price_range_100': 2, 'cuisines': ['Chinese'], 'restaurant_name': \"Chan's Golden City\"}, {'geo': {'lon': -73.997757, 'lat': 40.68758}, 'hours': 'Mon-Fri: 11:30am-11pm  Sat-Sun: 12pm-11pm', 'address': {'city': 'Brooklyn', 'formatted': '402 Henry St Brooklyn, NY 11201', 'street': '402 Henry St', 'state': 'NY', 'postal_code': '11201'}, 'restaurant_phone': '(718) 625-8585', 'restaurant_id': 379292, 'price_range': '$$', 'menus': [], 'price_range_100': 2, 'cuisines': ['Chinese'], 'restaurant_name': 'Happy Garden'}, {'geo': {'lon': -73.998054, 'lat': 40.687578}, 'hours': 'Daily: 5pm-12am', 'address': {'city': 'Brooklyn', 'formatted': '400 Henry St Brooklyn, NY 11201', 'street': '400 Henry St', 'state': 'NY', 'postal_code': '11201'}, 'restaurant_phone': '(347) 689-3122', 'restaurant_id': 364909, 'price_range': '$$$', 'menus': [], 'price_range_100': 3, 'cuisines': ['Argentinean', 'South American'], 'restaurant_name': 'Libertador'}, {'geo': {'lon': -73.995761, 'lat': 40.687798}, 'hours': 'Mon-Thu: 5pm-11pm  Fri: 5pm-12am  Sat: 11:30am-3:30pm+5pm-12am  Sun: 11:30am-3:30pm+5pm-10pm', 'address': {'city': 'Brooklyn', 'formatted': '268 Clinton St Brooklyn, NY 11201', 'street': '268 Clinton St', 'state': 'NY', 'postal_code': '11201'}, 'restaurant_phone': '(718) 422-0065', 'restaurant_id': 358697, 'price_range': '$$', 'menus': [], 'price_range_100': 2, 'cuisines': ['Spanish', 'Tapas'], 'restaurant_name': 'La Vara'}, {'geo': {'lon': -73.995636, 'lat': 40.687818}, 'hours': 'Mon-Wed: 7:30am-5:30pm  Thu-Fri: 7:30am-9pm  Sat-Sun: 8am-9pm', 'address': {'city': 'Brooklyn', 'formatted': '264 Clinton St Brooklyn, NY 11201', 'street': '264 Clinton St', 'state': 'NY', 'postal_code': '11201'}, 'restaurant_phone': '(718) 852-2212', 'restaurant_id': 273462, 'price_range': '', 'menus': [], 'price_range_100': 0, 'cuisines': ['Coffee &amp; Tea', 'Deli Food', 'Sandwiches'], 'restaurant_name': 'Ted & Honey'}, {'geo': {'lon': -73.999617, 'lat': 40.687053}, 'hours': '', 'address': {'city': 'Brooklyn', 'formatted': '118 Kane St Brooklyn, NY 11231', 'street': '118 Kane St', 'state': 'NY', 'postal_code': '11231'}, 'restaurant_phone': '(718) 237-4070', 'restaurant_id': 421671, 'price_range': '$$', 'menus': [], 'price_range_100': 2, 'cuisines': [], 'restaurant_name': 'Bonafide Delicatessen and Cafe'}, {'geo': {'lon': -73.996495, 'lat': 40.690212}, 'hours': 'Lunch:  Mon\\x96Fri 12:00pm - 2:30pm    Dinner:  Mon\\x96Thu: 5:30 pm\\x9610:00 pm  Fri-Sat: 5:30 pm\\x9610:30 pm  Sun: 5:00 pm\\x969:30 pm', 'address': {'city': 'Brooklyn', 'formatted': '333 Henry St Brooklyn, NY 11201', 'street': '333 Henry St', 'state': 'NY', 'postal_code': '11201'}, 'restaurant_phone': '(718) 260-8052', 'restaurant_id': 250281, 'price_range': '$', 'menus': [], 'price_range_100': 1, 'cuisines': ['Japanese', 'Sushi'], 'restaurant_name': 'HIBINO (Brooklyn)'}, {'geo': {'lon': -73.996278, 'lat': 40.690215}, 'hours': 'Mon-Fri: 5am-5pm  Sat: 5am-3pm  Sun: 5am-12pm', 'address': {'city': 'Brooklyn', 'formatted': '331 Henry St Brooklyn, NY 11201', 'street': '331 Henry St', 'state': 'NY', 'postal_code': '11201'}, 'restaurant_phone': '(718) 222-0708', 'restaurant_id': 478584, 'price_range': '$', 'menus': [], 'price_range_100': 1, 'cuisines': ['Sandwiches'], 'restaurant_name': 'Cobble Hill Canteen'}, {'geo': {'lon': -73.99646, 'lat': 40.690285}, 'hours': '', 'address': {'city': 'BROOKLYN', 'formatted': '331 Henry St BROOKLYN, NY 11201', 'street': '331 Henry St', 'state': 'NY', 'postal_code': '11201'}, 'restaurant_phone': '(718) 222-0708', 'restaurant_id': 250282, 'price_range': '', 'menus': [], 'price_range_100': 0, 'cuisines': ['American'], 'restaurant_name': \"Henry's Express\"}, {'geo': {'lon': -73.996324, 'lat': 40.690257}, 'hours': '', 'address': {'city': 'Brooklyn', 'formatted': '331 Henry St Brooklyn, NY 11201', 'street': '331 Henry St', 'state': 'NY', 'postal_code': '11201'}, 'restaurant_phone': '(571) 482-0570', 'restaurant_id': 483640, 'price_range': '', 'menus': [], 'price_range_100': 0, 'cuisines': [], 'restaurant_name': 'Key and Cup'}, {'geo': {'lon': -73.996248, 'lat': 40.690277}, 'hours': '', 'address': {'city': 'Brooklyn', 'formatted': '329 Henry St Brooklyn, NY 11201', 'street': '329 Henry St', 'state': 'NY', 'postal_code': '11201'}, 'restaurant_phone': '(718) 852-8630', 'restaurant_id': 445454, 'price_range': '$$$', 'menus': [], 'price_range_100': 3, 'cuisines': [], 'restaurant_name': 'Henry Public'}, {'geo': {'lon': -73.996248, 'lat': 40.690277}, 'hours': 'Mon-Thu: 5pm-2am  Fri: 5pm-4am  Sat: 11am-4am  Sun: 11am-2am', 'address': {'city': 'Brooklyn', 'formatted': '329 Henry St Brooklyn, NY 11201', 'street': '329 Henry St', 'state': 'NY', 'postal_code': '11201'}, 'restaurant_phone': '(718) 852-8630', 'restaurant_id': 478620, 'price_range': '$$', 'menus': [], 'price_range_100': 2, 'cuisines': ['American', 'Bar Food', 'Cocktails', 'Gastropub'], 'restaurant_name': 'Henry Public'}, {'geo': {'lon': -73.995223, 'lat': 40.690247}, 'hours': 'Wed-Sun: 11am-8:30pm', 'address': {'city': 'Brooklyn', 'formatted': '140 Atlantic Ave Brooklyn, NY 11201', 'street': '140 Atlantic Ave', 'state': 'NY', 'postal_code': '11201'}, 'restaurant_phone': '(718) 596-6594', 'restaurant_id': 478396, 'price_range': '$$', 'menus': [], 'price_range_100': 2, 'cuisines': ['Alcohol', 'Tapas'], 'restaurant_name': 'Pair'}, {'geo': {'lon': -73.996295, 'lat': 40.690754}, 'hours': 'Sun-Thu: 5:30pm-12am  Fri-Sat: 5:30pm-2am', 'address': {'city': 'Brooklyn', 'formatted': '110 Atlantic Ave Brooklyn, NY 11201', 'street': '110 Atlantic Ave', 'state': 'NY', 'postal_code': '11201'}, 'restaurant_phone': '(718) 596-3624', 'restaurant_id': 386818, 'price_range': '$$', 'menus': [], 'price_range_100': 2, 'cuisines': ['Cocktails'], 'restaurant_name': 'Long Island'}, {'geo': {'lon': -73.995881, 'lat': 40.69066}, 'hours': 'Mon-Thu: 11:30am-11pm  Fri: 11:30am-12am  Sat: 11am-12am  Sun: 11am-11pm  ', 'address': {'city': 'Brooklyn', 'formatted': '129 Atlantic Ave Brooklyn, NY 11215', 'street': '129 Atlantic Ave', 'state': 'NY', 'postal_code': '11215'}, 'restaurant_phone': '(718) 855-7775', 'restaurant_id': 250289, 'price_range': '$', 'menus': [], 'price_range_100': 1, 'cuisines': ['British (Traditional)'], 'restaurant_name': 'Atlantic ChipShop'}, {'geo': {'lon': -73.995647, 'lat': 40.690595}, 'hours': 'Tue-Sun: 4pm-10:30pm', 'address': {'city': 'BROOKLYN', 'formatted': '135 Atlantic Ave BROOKLYN, NY 11201', 'street': '135 Atlantic Ave', 'state': 'NY', 'postal_code': '11201'}, 'restaurant_phone': '(718) 797-1975', 'restaurant_id': 250287, 'price_range': '', 'menus': [], 'price_range_100': 0, 'cuisines': ['Spanish'], 'restaurant_name': 'La Mancha'}, {'geo': {'lon': -73.995019, 'lat': 40.690282}, 'hours': '', 'address': {'city': 'Brooklyn', 'formatted': '144 Atlantic Ave Brooklyn, NY 11201', 'street': '144 Atlantic Ave', 'state': 'NY', 'postal_code': '11201'}, 'restaurant_phone': '(718) 488-8886', 'restaurant_id': 490879, 'price_range': '', 'menus': [], 'price_range_100': 0, 'cuisines': [], 'restaurant_name': 'Sultan Moroccan, Mediterranean & Middle Eastern '}, {'geo': {'lon': -73.995618, 'lat': 40.690598}, 'hours': 'Mon-Thu: 4pm-12am  Fri: 12pm-1am  Sat: 10am-1am  Sun: 10am-12am', 'address': {'city': 'Brooklyn', 'formatted': '135 Atlantic Ave Brooklyn, NY 11201', 'street': '135 Atlantic Ave', 'state': 'NY', 'postal_code': '11201'}, 'restaurant_phone': '(347) 227-8337', 'restaurant_id': 365781, 'price_range': '$$', 'menus': [], 'price_range_100': 2, 'cuisines': ['Bistro', 'French'], 'restaurant_name': 'Chez Moi'}, {'geo': {'lon': -73.99529, 'lat': 40.69049}, 'hours': 'Dinner  Mon-Thu: 6pm-10:30pm  Fri: 6pm-11:30pm  Sat: 5pm-11:30pm  Sun: 5pm-10:30pm  Brunch  Sat-Sun: 11am-3pm ', 'address': {'city': 'Brooklyn', 'formatted': '127 Atlantic Ave Brooklyn, NY 11201', 'street': '127 Atlantic Ave', 'state': 'NY', 'postal_code': '11201'}, 'restaurant_phone': '', 'restaurant_id': 329617, 'price_range': '$$', 'menus': [], 'price_range_100': 2, 'cuisines': ['American (New)', 'Local/Organic', 'Vegetarian'], 'restaurant_name': 'Colonie'}, {'geo': {'lon': -73.993697, 'lat': 40.687243}, 'hours': '', 'address': {'city': 'Brooklyn', 'formatted': '194 Court St Brooklyn, NY 11231', 'street': '194 Court St', 'state': 'NY', 'postal_code': '11231'}, 'restaurant_phone': '', 'restaurant_id': 388881, 'price_range': '$', 'menus': [], 'price_range_100': 1, 'cuisines': ['Coffee &amp; Tea', 'Crepes', 'Desserts'], 'restaurant_name': 'The Cobble Creperie & Tea Spot'}, {'geo': {'lon': -74.001226, 'lat': 40.687858}, 'hours': 'Daily: 5:30pm-1am', 'address': {'city': 'Brooklyn', 'formatted': '115 Columbia St Brooklyn, NY 11231', 'street': '115 Columbia St', 'state': 'NY', 'postal_code': '11231'}, 'restaurant_phone': '(718) 797-4120', 'restaurant_id': 373386, 'price_range': '$', 'menus': [], 'price_range_100': 1, 'cuisines': ['Cocktails', 'Thai'], 'restaurant_name': 'Whiskey Soda Lounge'}, {'geo': {'lon': -73.99705, 'lat': 40.690983}, 'hours': 'Mon-Thu: 4pm-4am  Fri: 3pm-4am  Sat-Sun: 12pm-4am', 'address': {'city': 'Brooklyn', 'formatted': '97 Atlantic Ave Brooklyn, NY 11201', 'street': '97 Atlantic Ave', 'state': 'NY', 'postal_code': '11201'}, 'restaurant_phone': '(718) 488-0048', 'restaurant_id': 358606, 'price_range': '$', 'menus': [], 'price_range_100': 1, 'cuisines': ['Bar Food'], 'restaurant_name': 'Roebling Inn'}, {'geo': {'lon': -73.993761, 'lat': 40.687064}, 'hours': 'Sun-Thu: 11am-9pm  Fri-Sat: 11am-12am', 'address': {'city': 'Brooklyn', 'formatted': '200 Court St Brooklyn, NY 11201', 'street': '200 Court St', 'state': 'NY', 'postal_code': '11201'}, 'restaurant_phone': '(347) 799-1673', 'restaurant_id': 305774, 'price_range': '$', 'menus': [], 'price_range_100': 1, 'cuisines': ['Middle Eastern'], 'restaurant_name': 'Darna Falafel'}, {'geo': {'lon': -73.993672, 'lat': 40.687261}, 'hours': '', 'address': {'city': 'Brooklyn', 'formatted': '194 Court St Brooklyn, NY 11201', 'street': '194 Court St', 'state': 'NY', 'postal_code': '11201'}, 'restaurant_phone': '(347) 748-2287', 'restaurant_id': 504923, 'price_range': '', 'menus': [], 'price_range_100': 0, 'cuisines': [], 'restaurant_name': 'Jus by Julie'}], 'numResults': 25, 'page': 1, 'pages': 5, 'morePages': True}}\n"
    }
   ],
   "source": [
    "\n",
    "restaurants_info_json = get_restaurants_info()\n",
    "print(restaurants_info_json)"
   ]
  },
  {
   "cell_type": "code",
   "execution_count": 38,
   "metadata": {
    "tags": []
   },
   "outputs": [
    {
     "output_type": "stream",
     "name": "stdout",
     "text": "[274038, 354824, 379292, 364909, 358697, 273462, 421671, 250281, 478584, 250282, 483640, 445454, 478620, 478396, 386818, 250289, 250287, 490879, 365781, 329617, 388881, 373386, 358606, 305774, 504923]\n"
    }
   ],
   "source": [
    "restaurant_ids = get_ids_from_resonse(restaurants_info_json)\n",
    "print(restaurant_ids)"
   ]
  },
  {
   "cell_type": "code",
   "execution_count": 39,
   "metadata": {
    "tags": []
   },
   "outputs": [
    {
     "output_type": "stream",
     "name": "stdout",
     "text": "[' fresh ricotta pin nuts arugula sliced tomato pesto rotating seasonal drafts bottle selection sardinian cous lemon cherry parsley pomegranate molasses hazelnut mousse bulleit ginger medium fresh orange refreshing tangy orange creamy yellow floral medium stone fruits fresh green apple refreshing bright smooth finish medium fruit spicy round shaved lemon vinaigrette with truffle cheese garlic toasted almonds pancetta chivas year angostura biters roasted fresh nutmeg solid crisp herbal wild red morello delicate refreshing', ' cheese wonton french fries or fried rice plain french fries or fried rice with chicken or pork fried rice beef with mixed vegetable in brown with garlic sauce with meat with bean curd soup', ' Hot and Served with Served with choice of rice and fried Served with soft Flat Thin Served with white Hot and Hot and Hot and Hot and Hot and Hot and Served with', ' grilled chicken organic chicken breast fresh herb thyme parsley traditional family organic chicken house fresh garlic and oregano choice of homemade mashed potatoes or our famous french fries rovenzal beef prime sirloin thinly sliced raw cheese homemade basil pesto dressing baby spinach mix baby cashews dried argentinean balsamic vinegar dressing asparagus corn grilled warm organic beefsteak dried oregano freshly ground black pepper yellowfin tuna marinated thin sliced avocado cream lime vinaigrette mixed green goat cheese organic mesclun goat cherry red balsamic dressing lentil goat cheese goat cherry red balsamic vinegar dressing sauce homemade tomato pink or garlic olive argentinean cheese steak prime fresh basil red lemon zest garlic reggiano olive oil grand veneuar red malbec pepper homemade mashed potatoes prime skirt steak pear arugula fresh toasted argentinean olive oil lemon dressing seafood spaghetti tomato olive oil garlic fried chipotle dip sauce tomato sauce orange sliced chopped black and lemon olive dressing milanesa chicken or breaded homemade mashed potatoes or french fries provenzal flat meat sauce saltena style short loin porterhouse house hearts of romaine hard boiled oregano olive oil dressing', ' handmade murcian goat ground goat sumac chickpea and spinach stew galician style chilled shrimp salad with melon and avocado muscat de muscat de sauvignon blanc imported spanish goats milk candied squash rough cut crispy potatoes with spicy alioli fried egg and bacon stew sandwich on andaluz roll rias albarino ull de merlot compo de garnacha crispy marinated andoluz style half roasted over spiced cumin and rice scented custard with grapefruit and rosemary trepat la vara spiced fried chickpeas orange blossom scented date walnut lemon sweet cream pedro ximenez blistered sweet peppers with sea salt lard enriched orange blossom honey crispy skate special shredded jalapeños en escabeche local squid and crispy morcilla with broken boqueria style viura galician olive oil cured seasonal charred bread crispy eggplant with melted nigella seed tomato rubbed bread and nori', ' baby grilled goat marcona bacon lavender bourbon vinaigrette parsley cherry field feta cheese and greek yogurt buttermilk dressing vinho verde over easy eggs on corn tortillas with black ranchero sharp and chipotle lime sour cream field sugar snap baby haricot sunflower sherry vinaigrette pickled candied bacon pulled pork with cole slaw bbq sauce goat caramelized braised pork belly syrah carmenere wrap with cheddar cheese farmhouse eggs and dines farm ham ny heirloom house pulled balsamic gastrique spicy chipotle spiked aioli rosso pinot noir served on your choice of fresh baked bread from with farmhouse havarti and local tomato fresh summer green fried sherry vinaigrette local sharp red oak lettuce and a petite salad chenin blanc with dried nuts organic with dried fruit served with organic fingerlakes farms', ' Grilled melted fresh cherry peppers and spicy Family Served with toast and home Served with toast and home Cracked pepper smoked tomato and honey Maple honey tomato and honey Breaded chicken melted coleslaw and ranch organic mustard and', ' Sea Avocado cucumber spicy mayo tobiko fish and special sauce Seared tuna sashimi with shaved carrots daikon with onion soy Panko breaded and fried pork loin served with tonkatsu Sea Avocado cucumber spicy mayo tobiko fish and special sauce Avocado cucumber spicy mayo tobiko fish and special sauce Avocado cucumber spicy mayo tobiko fish and special sauce Entree of the mini miso rice and Flying fish Sea Roll with assorted Salmon Avocado cucumber spicy mayo tobiko fish and special sauce Seared tuna sashimi with shaved carrots daikon with onion soy Wakame and green red seaweed with ponzu Roasted duck slices and shaved daikon carrots with shiso Roasted chicken served with teriyaki Spring roll kyoto style shrimp wrapped in', ' with bacon or with home fries toast with garden salad with a free can of soda with french fries a free can of soda with ham or bacon or sausage with butter jelly with milk grilled com beef on rye with melted swiss sour kraut mustard with french with a can of soda', ' whitting or flounder with chips one hero served with home fries and toast', ' Served with melted mozzarella or cheddar on balthazar Served with melted mozzarella or cheddar on balthazar Two choice of meat and cheddar on toasted brioche', ' With See our board for With poached egg hollandaise With jam order of With apple slices With savory trimmings On the half', ' half sandwich available a la carte old tom dry orange marmalade with poached egg hollandaise with both add a fried egg on top shallot celery pomegranate molasses served with potatoes etc oatmeal stout with apple served with potatoes with bacon ginger islay scotch served with potato chips served with potatoes', ' poached fried egg pickled red mustard mustard aioli sundried tomato infused extra virgin on baguette', '', ' portobello black baked grilled potatoes and On With homemade bread With With With warm tomato dipping With peas and With homemade bread Served warm with branston With tartare With a warm English back and streaky bacon balsamic Served with With With mash or With minted new potatoes and Green homemade bread roll and a big chunk of aged Cabot', ' baby chorizo garlic soup broiled or steamed lobster homemade chocolate pie cured sausage gypsy ann soft cooked to your request in season scallops la mancha octopus galician style blood sausage pork cured leg eggs galician peasant soup veal with peppers and sausage in a sherry sauce veal cutlets sauteed in garlic and olive oil vanilla custard', ' Beef Your choice of wrap or with and tahini grape leaves and pita squash and turnip over Stewed olives and lemon simmered with a bouquet of herbs and Served with Basmati rice or salad hummus or olives lemon bouquet Served with Basmati rice or salad hummus or chick onions spices Marinated cubes of grilled Served with your choice of rice or french your choice of hummus of babaghanouj and a green salad with pita Available September assorted vegetables and chick peas over couscous semolina', ' terre di giurfo sicily scotto the california shaved mesclun garlic parsley butter truffle mushrooms house seasoning topped with a fried egg strawberry lafitte sparkling saucisson rillette pâté dijon cornichons spiced angustora bitters maple syrup creme fraiche green lafitte sparkling ricard lafitte sparkling dijon cream peppercorn sauce apricot agave fresh lemon applewood smoked bacon white peach lafitte sparkling muscadet sevre et domaine de la loire domaine de languedoc balsamic vinaigrette', ' raw cow salted creme fraiche ice cream domaine de on channing due new cucumber migonette mint raw cow cranberries radish black candied flaxseed chorizo capers raw sheep cream raw goat blanco fresh ruby red grapefruit fresh lime agave smoked paprika salt rim on empire builder by gotham new thyme nuoc crispy lemon butternut browned mizuna greek apples toast hangar one chipotle celery fresh sherry neipoort brut nv hon shimeji heirloom grits', ' olive kalamata oregano balsamic glaze roasted peppers whip cream nutella with strawberry banana vanilla ice dulce de strawberry choc chop vanilla ice cream tomato feta cheese mushrooms dulce de granulated walnuts mozzarella pesto caramelized onions peanut butter nutella banana', ' charcoal toasted dried large thai passed through the squid served with dipping prepared with thai chilies and aromatics pounded in the mortar and grapefruit juice with som honey drinking vinegar and fresh squeezed thai style best quality from portland tea expert steve jasmine lord meadow herbal japan thai iced tea with evaporated milk pok pok style with lime chilies and sea low and slow grilled flank neck with a little bit of salt and pounded with a sledge hammer and served with naam phrik a northern thai dipping fresh lime palm sugar and bourbon on the som apple drinking lemon and korean with thailand singapore thai iced tea with fresh lime juice dried anchovies with shark sri racha crispy deep fried spice stewed pork ear strips served with black vinegar dipping mixture of chopped peanuts and old school thai drinking food with a cryptic spice stewed pork chitlins fried crisp and served with a sweet black vinegar dipping poached fresh squid salad with chinese green mint and spicy marinated dried pork with thai coriander seeds and deep fried lime served with and isaan dipping isaan soup with pork and lime and served in a clay house infused kaffir lime gin served tall with coconut cream and shaken and served', ' traditional handmade twisted bavarian style pretzel english pale ale new york state sharp cheddar and crackers india pale ale red lager saison bowl of salted cashews gluten free american pale ale new meat pies made in brooklyn served with chips belgian white ale all beef nathans hot dog served with chips and pickles ground beef in an onion gravy mixed vegetables in curry sauce brown ale handmade crust filled with spinach and spices served with chips amber ale czech pilsner', ' and toasted romaine feta cheese and homemade Italian Served with romaine tomato and red feta romaine olive oil and lemon turkey cheddar on a toasted ciabatta roasted red caramelized feta romaine on a whole wheat and Romaine Parmesan pita croutons and aioli Roasted red caramelized feta chipotle mayo dressing on the side feta Italian dressing and hummus on pita Includes a side Falafel romaine lettuce and tahini Includes a side Served with hummus and pita Includes a side Almond Milk and cinnamon and and Strawberries apple juice and almond milk romaine feta cheese and tzatziki', ' mango and rice Juices are kosher and gluten and dairy hemp lime and Juices are kosher and gluten and dairy Wrap grain salad balsamic vinaigrette sunflower Romaine egg sunflower balsamic dressing sunflower baked sunflower sunflower string cherry steamed hearts of sunflower sunflower All natural peanut banana and rice Juices are kosher and gluten and dairy lemon and cayenne A lightly sweet soup with aromatic turmeric and just a hint of Soups are vegan and A mineral rich broth with onions and garlic that heals from the inside Soups are vegan and mint and Juices are kosher and gluten and dairy maple cayenne pepper and Juices are kosher and gluten and dairy All natural peanut banana and rice Juices are kosher and gluten and dairy pineapple and rice Juices are kosher and gluten and dairy cinnamon and rice Juices are kosher and gluten and dairy pomegranate and coconut Juices are kosher and gluten and dairy Cold brew coffee infused with billion of vegan Oregano garlic and Feta sugar snap tomatoes and lemon mint sunflower romaine strawberry and rice Juices are kosher and gluten and dairy Almond chia cacao organic vegan Juices are kosher and gluten and dairy A spicy roasted pumpkin and creamy coconut milk soup blended with vegetables and a hint of Soups are vegan and sunflower shitake Balsamic vinaigrette dressing sunflower apple and rice Juices are kosher and gluten and dairy Chia Juices are kosher and gluten and dairy']\n"
    }
   ],
   "source": [
    "restaurant_menus = get_restaurant_menu_items_from_ids(restaurant_ids)\n",
    "print(restaurant_menus)"
   ]
  },
  {
   "cell_type": "code",
   "execution_count": 40,
   "metadata": {
    "tags": []
   },
   "outputs": [
    {
     "output_type": "stream",
     "name": "stdout",
     "text": "['add', 'agave', 'aged', 'aioli', 'albarino', 'ale', 'alioli', 'almond', 'almonds', 'amber', 'american', 'anchovies', 'andaluz', 'andoluz', 'angostura', 'angustora', 'ann', 'apple', 'apples', 'applewood', 'apricot', 'argentinean', 'aromatic', 'aromatics', 'arugula', 'asparagus', 'assorted', 'available', 'avocado', 'babaghanouj', 'baby', 'bacon', 'baguette', 'baked', 'balsamic', 'balthazar', 'banana', 'basil', 'basmati', 'bavarian', 'bbq', 'bean', 'beef', 'beefsteak', 'belgian', 'belly', 'best', 'big', 'billion', 'bit', 'biters', 'bitters', 'black', 'blanc', 'blanco', 'blended', 'blistered', 'blood', 'blossom', 'board', 'boiled', 'boqueria', 'bottle', 'bouquet', 'bourbon', 'bowl', 'braised', 'branston', 'bread', 'breaded', 'breast', 'brew', 'bright', 'brioche', 'broiled', 'broken', 'brooklyn', 'broth', 'brown', 'browned', 'brut', 'builder', 'bulleit', 'butter', 'buttermilk', 'butternut', 'cabot', 'cacao', 'california', 'candied', 'capers', 'caramelized', 'carmenere', 'carrots', 'carte', 'cashews', 'cayenne', 'celery', 'channing', 'charcoal', 'charred', 'cheddar', 'cheese', 'chenin', 'cherry', 'chia', 'chick', 'chicken', 'chickpea', 'chickpeas', 'chilies', 'chilled', 'chinese', 'chipotle', 'chips', 'chitlins', 'chivas', 'choc', 'chocolate', 'choice', 'chop', 'chopped', 'chorizo', 'chunk', 'ciabatta', 'cinnamon', 'clay', 'coconut', 'coffee', 'cold', 'cole', 'coleslaw', 'com', 'compo', 'cooked', 'coriander', 'corn', 'cornichons', 'cous', 'couscous', 'cow', 'cracked', 'crackers', 'cranberries', 'cream', 'creamy', 'creme', 'crisp', 'crispy', 'croutons', 'crust', 'cryptic', 'cubes', 'cucumber', 'cumin', 'curd', 'cured', 'curry', 'custard', 'cut', 'cutlets', 'czech', 'daikon', 'dairy', 'date', 'deep', 'delicate', 'di', 'dijon', 'dines', 'dip', 'dipping', 'dog', 'domaine', 'drafts', 'dressing', 'dried', 'drinking', 'dry', 'duck', 'dulce', 'ear', 'easy', 'egg', 'eggplant', 'eggs', 'empire', 'en', 'english', 'enriched', 'entree', 'escabeche', 'et', 'evaporated', 'expert', 'extra', 'falafel', 'family', 'famous', 'farm', 'farmhouse', 'farms', 'feta', 'field', 'filled', 'fingerlakes', 'finish', 'fish', 'flank', 'flat', 'flaxseed', 'floral', 'flounder', 'flying', 'food', 'fraiche', 'free', 'french', 'fresh', 'freshly', 'fried', 'fries', 'fruit', 'fruits', 'galician', 'garden', 'garlic', 'garnacha', 'gastrique', 'gin', 'ginger', 'giurfo', 'glaze', 'gluten', 'goat', 'goats', 'gotham', 'grain', 'grand', 'granulated', 'grape', 'grapefruit', 'gravy', 'greek', 'green', 'grilled', 'grits', 'ground', 'gypsy', 'half', 'ham', 'hammer', 'handmade', 'hangar', 'hard', 'haricot', 'havarti', 'hazelnut', 'heals', 'hearts', 'heirloom', 'hemp', 'herb', 'herbal', 'herbs', 'hero', 'hint', 'hollandaise', 'home', 'homemade', 'hon', 'honey', 'hot', 'house', 'hummus', 'ice', 'iced', 'imported', 'includes', 'india', 'infused', 'inside', 'isaan', 'islay', 'italian', 'jalapeños', 'jam', 'japan', 'jasmine', 'jelly', 'juice', 'juices', 'just', 'kaffir', 'kalamata', 'korean', 'kosher', 'kraut', 'kyoto', 'la', 'lafitte', 'lager', 'languedoc', 'lard', 'large', 'lavender', 'leaves', 'leg', 'lemon', 'lentil', 'lettuce', 'lightly', 'lime', 'little', 'lobster', 'local', 'loin', 'loire', 'lord', 'low', 'malbec', 'mancha', 'mango', 'maple', 'marcona', 'marinated', 'marmalade', 'mash', 'mashed', 'mayo', 'meadow', 'meat', 'medium', 'melon', 'melted', 'merlot', 'mesclun', 'migonette', 'milanesa', 'milk', 'mineral', 'mini', 'mint', 'minted', 'miso', 'mix', 'mixed', 'mixture', 'mizuna', 'molasses', 'morcilla', 'morello', 'mortar', 'mousse', 'mozzarella', 'murcian', 'muscadet', 'muscat', 'mushrooms', 'mustard', 'naam', 'nathans', 'natural', 'neck', 'neipoort', 'new', 'nigella', 'noir', 'nori', 'northern', 'nuoc', 'nutella', 'nutmeg', 'nuts', 'nv', 'ny', 'oak', 'oatmeal', 'octopus', 'oil', 'old', 'olive', 'olives', 'onion', 'onions', 'orange', 'order', 'oregano', 'organic', 'pale', 'palm', 'pancetta', 'panko', 'paprika', 'parmesan', 'parsley', 'passed', 'peach', 'peanut', 'peanuts', 'pear', 'peas', 'peasant', 'pedro', 'pepper', 'peppercorn', 'peppers', 'pesto', 'petite', 'phrik', 'pickled', 'pickles', 'pie', 'pies', 'pilsner', 'pin', 'pineapple', 'pink', 'pinot', 'pita', 'plain', 'poached', 'pok', 'pomegranate', 'ponzu', 'pork', 'porterhouse', 'portland', 'portobello', 'potato', 'potatoes', 'pounded', 'prepared', 'pretzel', 'prime', 'provenzal', 'pulled', 'pumpkin', 'pâté', 'quality', 'racha', 'radish', 'ranch', 'ranchero', 'raw', 'red', 'refreshing', 'reggiano', 'request', 'rias', 'ricard', 'rice', 'rich', 'ricotta', 'rillette', 'rim', 'roasted', 'roll', 'romaine', 'rosemary', 'rosso', 'rotating', 'rough', 'round', 'rovenzal', 'rubbed', 'ruby', 'rye', 'saison', 'salad', 'salmon', 'salt', 'salted', 'saltena', 'sandwich', 'sardinian', 'sashimi', 'sauce', 'saucisson', 'sausage', 'sauteed', 'sauvignon', 'savory', 'scallops', 'scented', 'school', 'scotch', 'scotto', 'sea', 'seafood', 'seared', 'season', 'seasonal', 'seasoning', 'seaweed', 'seed', 'seeds', 'selection', 'semolina', 'september', 'served', 'sevre', 'shaken', 'shallot', 'shark', 'sharp', 'shaved', 'sheep', 'sherry', 'shimeji', 'shiso', 'shitake', 'short', 'shredded', 'shrimp', 'sicily', 'simmered', 'singapore', 'sirloin', 'skate', 'skirt', 'slaw', 'sledge', 'sliced', 'slices', 'slow', 'smoked', 'smooth', 'snap', 'soda', 'soft', 'solid', 'som', 'soup', 'soups', 'sour', 'soy', 'spaghetti', 'spanish', 'sparkling', 'special', 'spice', 'spiced', 'spices', 'spicy', 'spiked', 'spinach', 'spring', 'squash', 'squeezed', 'squid', 'sri', 'state', 'steak', 'steamed', 'steve', 'stew', 'stewed', 'stone', 'stout', 'strawberries', 'strawberry', 'streaky', 'string', 'strips', 'style', 'sugar', 'sumac', 'summer', 'sundried', 'sunflower', 'sweet', 'swiss', 'syrah', 'syrup', 'tahini', 'tall', 'tangy', 'tartare', 'tea', 'teriyaki', 'terre', 'thai', 'thailand', 'thinly', 'thyme', 'toast', 'toasted', 'tobiko', 'tom', 'tomato', 'tomatoes', 'tonkatsu', 'topped', 'tortillas', 'traditional', 'trepat', 'trimmings', 'truffle', 'tuna', 'turkey', 'turmeric', 'turnip', 'twisted', 'tzatziki', 'ull', 'vanilla', 'vara', 'veal', 'vegan', 'vegetable', 'vegetables', 'veneuar', 'verde', 'vinaigrette', 'vinegar', 'vinho', 'virgin', 'viura', 'wakame', 'walnut', 'walnuts', 'warm', 'wheat', 'whip', 'white', 'whitting', 'wild', 'wonton', 'wrap', 'wrapped', 'ximenez', 'year', 'yellow', 'yellowfin', 'yogurt', 'york', 'zest']\n[[1.         0.0213875  0.         0.15164209 0.0491986  0.10558482\n  0.06821023 0.04076296 0.         0.         0.0132151  0.01666392\n  0.07759611 0.02272161 0.         0.01203775 0.01408655 0.02287885\n  0.069362   0.07681461 0.03411335 0.06831218 0.00391192 0.05499091\n  0.02434941]]\n"
    }
   ],
   "source": [
    "similairties = calc_similarities(restaurant_menus)\n",
    "print(similairties)"
   ]
  },
  {
   "cell_type": "code",
   "execution_count": 41,
   "metadata": {
    "tags": []
   },
   "outputs": [
    {
     "output_type": "stream",
     "name": "stdout",
     "text": "[(1.0, 274038), (0.15164208868595158, 364909), (0.10558481951291888, 273462), (0.07759611350820811, 478620), (0.07681460613676165, 329617), (0.06936200236742299, 365781), (0.06831218445144129, 373386), (0.06821022801005903, 421671), (0.054990909989171284, 305774), (0.04919860151499794, 358697), (0.04076295645892069, 250281), (0.03411334730572686, 388881), (0.024349410621611046, 504923), (0.02287884665296741, 490879), (0.022721611292726103, 478396), (0.021387495883565907, 354824), (0.016663922140976627, 445454), (0.014086548001389518, 250287), (0.013215103234024039, 483640), (0.012037749793234225, 250289), (0.003911919015537427, 358606), (0.0, 478584), (0.0, 386818), (0.0, 379292), (0.0, 250282)]\n"
    }
   ],
   "source": [
    "similairties_ids = rank_similarities(similairties, restaurant_ids)\n",
    "print(similairties_ids)"
   ]
  },
  {
   "cell_type": "code",
   "execution_count": null,
   "metadata": {},
   "outputs": [],
   "source": []
  }
 ],
 "metadata": {
  "kernelspec": {
   "display_name": "Python 3",
   "language": "python",
   "name": "python3"
  },
  "language_info": {
   "codemirror_mode": {
    "name": "ipython",
    "version": 3
   },
   "file_extension": ".py",
   "mimetype": "text/x-python",
   "name": "python",
   "nbconvert_exporter": "python",
   "pygments_lexer": "ipython3",
   "version": "3.8.2-final"
  }
 },
 "nbformat": 4,
 "nbformat_minor": 4
}