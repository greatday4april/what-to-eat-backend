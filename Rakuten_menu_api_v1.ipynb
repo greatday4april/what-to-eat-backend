{
 "cells": [
  {
   "cell_type": "code",
   "execution_count": 186,
   "metadata": {
    "tags": []
   },
   "outputs": [],
   "source": [
    "from sklearn import feature_extraction\n",
    "from sklearn.feature_extraction.text import CountVectorizer \n",
    "from sklearn.feature_extraction.text import TfidfTransformer\n",
    "from sklearn.metrics.pairwise import linear_kernel\n",
    "\n",
    "import requests\n",
    "import json"
   ]
  },
  {
   "cell_type": "code",
   "execution_count": 187,
   "metadata": {},
   "outputs": [],
   "source": [
    "def get_restaurants_info():\n",
    "    # get resturants by location, should have parameters as location\n",
    "    headers = {\n",
    "    'x-rapidapi-host': \"us-restaurant-menus.p.rapidapi.com\",\n",
    "    'x-rapidapi-key': \"97fe65f894msh2b7de28891987d4p181282jsnf490e829c02a\",\n",
    "    }\n",
    "    querystring = {\"page\":\"2\"}\n",
    "    url2 =\"https://us-restaurant-menus.p.rapidapi.com/restaurants/search/geo?lat=40.688072&lon=-73.997385&distance=0.3\"\n",
    "    response_res = requests.request(\"GET\", url2, headers=headers, params=querystring)\n",
    "    restaurants_info_json = json.loads(response_res.text)\n",
    "\n",
    "    return restaurants_info_json"
   ]
  },
  {
   "cell_type": "code",
   "execution_count": 188,
   "metadata": {
    "tags": []
   },
   "outputs": [],
   "source": [
    "def get_ids_from_resonse(response_info_json):\n",
    "    # get 25 resturant ids from above response\n",
    "    if 'result' in response_info_json:\n",
    "        restaurants_data_list = restaurants_info_json['result']['data']\n",
    "        ids = map(lambda x: x['restaurant_id'], restaurants_data_list)\n",
    "        return list(ids)\n",
    "    else:\n",
    "        return []\n"
   ]
  },
  {
   "cell_type": "code",
   "execution_count": 189,
   "metadata": {},
   "outputs": [],
   "source": [
    "def get_tags_from_resonse(response_info_json):\n",
    "    # get 25 resturant tags from above response\n",
    "    if 'result' in response_info_json:\n",
    "        restaurants_data_list = restaurants_info_json['result']['data']\n",
    "        tags = map(lambda x: \" \".join(x['cuisines']), restaurants_data_list)\n",
    "        return list(tags)\n",
    "    else:\n",
    "        return []"
   ]
  },
  {
   "cell_type": "code",
   "execution_count": 190,
   "metadata": {
    "tags": []
   },
   "outputs": [],
   "source": [
    "def calc_similarities(restaurant_menus): \n",
    "    # form vector for each resturant\n",
    "    vectorizer = CountVectorizer(stop_words='english')\n",
    "    X = vectorizer.fit_transform(restaurant_menus)\n",
    "\n",
    "    print(vectorizer.get_feature_names())\n",
    "    # tf-idf on resturant menue matrix\n",
    "    transformer = TfidfTransformer()\n",
    "    tfidf = transformer.fit_transform(X)\n",
    "    tfidf_array = tfidf.toarray()\n",
    "\n",
    "    # calculate similarity with first resturant using cosine_similarity\n",
    "    target = tfidf_array[0]\n",
    "    similarities = linear_kernel([target], tfidf_array)\n",
    "\n",
    "    return similarities"
   ]
  },
  {
   "cell_type": "code",
   "execution_count": 191,
   "metadata": {},
   "outputs": [],
   "source": [
    "def rank_similarities(similarities, restaurant_ids):\n",
    "    # form pairs of similarity-id, and find most similar restaurants\n",
    "    similairties_ids = []\n",
    "    similairties_array = similarities[0]\n",
    "\n",
    "    for i in range(len(restaurant_ids)):\n",
    "        similarity = similairties_array[i]\n",
    "        id = restaurant_ids[i]\n",
    "        similairty_id = (similarity, id) # construct tuple with similarity first\n",
    "        similairties_ids.append(similairty_id)\n",
    "\n",
    "    similairties_ids.sort(reverse=True)\n",
    "\n",
    "    return similairties_ids"
   ]
  },
  {
   "cell_type": "code",
   "execution_count": 192,
   "metadata": {
    "tags": []
   },
   "outputs": [
    {
     "output_type": "stream",
     "name": "stdout",
     "text": "{'result': {'totalResults': 100, 'data': [{'geo': {'lon': -74.001238, 'lat': 40.687549}, 'hours': 'Daily: 11:30am-11pm', 'address': {'city': 'BROOKLYN', 'formatted': '117 Columbia St BROOKLYN, NY 11231', 'street': '117 Columbia St', 'state': 'NY', 'postal_code': '11231'}, 'restaurant_phone': '(718) 237-4300', 'restaurant_id': 309898, 'price_range': '$$$', 'menus': [], 'price_range_100': 3, 'cuisines': ['Italian', 'Pasta', 'Pizza', 'Seafood'], 'restaurant_name': 'Casa Di Campagna'}, {'geo': {'lon': -73.994565, 'lat': 40.690155}, 'hours': ' ', 'address': {'city': 'Brooklyn', 'formatted': '156 Atlantic Ave Brooklyn, NY 11201', 'street': '156 Atlantic Ave', 'state': 'NY', 'postal_code': '11201'}, 'restaurant_phone': '(347) 689-4192', 'restaurant_id': 509610, 'price_range': '', 'menus': [], 'price_range_100': 0, 'cuisines': [], 'restaurant_name': 'Swallow Cafe'}, {'geo': {'lon': -73.994565, 'lat': 40.690155}, 'hours': 'Daily: 12pm-11pm', 'address': {'city': 'Brooklyn', 'formatted': '156 Atlantic Ave Brooklyn, NY 11201', 'street': '156 Atlantic Ave', 'state': 'NY', 'postal_code': '11201'}, 'restaurant_phone': '(718) 596-5800', 'restaurant_id': 250279, 'price_range': '', 'menus': [], 'price_range_100': 0, 'cuisines': ['Mediterranean', 'Middle Eastern'], 'restaurant_name': 'Tripoli Restaurant'}, {'geo': {'lon': -73.99489, 'lat': 40.690385}, 'hours': 'Daily: 11:30am-11pm', 'address': {'city': 'Brooklyn', 'formatted': '144 Atlantic Ave Brooklyn, NY 11201', 'street': '144 Atlantic Ave', 'state': 'NY', 'postal_code': '11201'}, 'restaurant_phone': '(718) 488-8886', 'restaurant_id': 250280, 'price_range': '', 'menus': [], 'price_range_100': 0, 'cuisines': ['Middle Eastern', 'Pizza'], 'restaurant_name': 'Waterfalls Cafe'}, {'geo': {'lon': -73.993864, 'lat': 40.686724}, 'hours': 'Sat 12 pm - 11:30pm   Sun 12pm - 11pm   Mon-Th 11:30am-11pm   Fri 11:30am-11:30pm', 'address': {'city': 'Brooklyn', 'formatted': '229 Court St Brooklyn, NY 11201', 'street': '229 Court St', 'state': 'NY', 'postal_code': '11201'}, 'restaurant_phone': '(718) 222-5598', 'restaurant_id': 150753, 'price_range': '', 'menus': [], 'price_range_100': 0, 'cuisines': ['Thai'], 'restaurant_name': 'Ghang Thai Kitchen'}, {'geo': {'lon': -73.994852, 'lat': 40.690376}, 'hours': '', 'address': {'city': 'Brooklyn', 'formatted': '155 Atlantic Ave Brooklyn, NY 11201', 'street': '155 Atlantic Ave', 'state': 'NY', 'postal_code': '11201'}, 'restaurant_phone': '(718) 235-3001', 'restaurant_id': 489103, 'price_range': '', 'menus': [], 'price_range_100': 0, 'cuisines': [], 'restaurant_name': 'Brado'}, {'geo': {'lon': -73.993737, 'lat': 40.686902}, 'hours': 'Mon-Fri: 2pm-4am    Sat-Sun: 12pm-4am', 'address': {'city': 'Brooklyn', 'formatted': '208 Court St Brooklyn, NY 11201', 'street': '208 Court St', 'state': 'NY', 'postal_code': '11201'}, 'restaurant_phone': '', 'restaurant_id': 386010, 'price_range': '$$', 'menus': [], 'price_range_100': 2, 'cuisines': ['Cocktails'], 'restaurant_name': 'Congress Bar'}, {'geo': {'lon': -73.997402, 'lat': 40.691081}, 'hours': 'Mon-Thu: 11am-10:30pm  Fri-Sat: 11am-11pm  Sun: 12pm-10:30pm  ', 'address': {'city': 'BROOKLYN', 'formatted': '87 Atlantic Ave BROOKLYN, NY 11201', 'street': '87 Atlantic Ave', 'state': 'NY', 'postal_code': '11201'}, 'restaurant_phone': '(718) 855-8839', 'restaurant_id': 250283, 'price_range': '', 'menus': [], 'price_range_100': 0, 'cuisines': ['Chinese'], 'restaurant_name': 'Red Pepper'}, {'geo': {'lon': -73.993794, 'lat': 40.686789}, 'hours': 'Daily: 7am-7pm', 'address': {'city': 'Brooklyn', 'formatted': '210 Court St Brooklyn, NY 11201', 'street': '210 Court St', 'state': 'NY', 'postal_code': '11201'}, 'restaurant_phone': '(718) 855-7129', 'restaurant_id': 367456, 'price_range': '$', 'menus': [], 'price_range_100': 1, 'cuisines': ['Coffee &amp; Tea'], 'restaurant_name': 'Cafe Pedlar'}, {'geo': {'lon': -73.997343, 'lat': 40.691082}, 'hours': '', 'address': {'city': 'BROOKLYN', 'formatted': '87 Atlantic Ave BROOKLYN, NY 11201', 'street': '87 Atlantic Ave', 'state': 'NY', 'postal_code': '11201'}, 'restaurant_phone': '(718) 855-8839', 'restaurant_id': 284202, 'price_range': '', 'menus': [], 'price_range_100': 0, 'cuisines': ['American', 'Barbecue'], 'restaurant_name': 'Dallas Jones BBQ'}, {'geo': {'lon': -73.994784, 'lat': 40.690357}, 'hours': 'Sun-Thur: 12pm-10pm  Fri-Sat: 12pm-11pm', 'address': {'city': 'BROOKLYN', 'formatted': '148 Atlantic Ave BROOKLYN, NY 11201', 'street': '148 Atlantic Ave', 'state': 'NY', 'postal_code': '11201'}, 'restaurant_phone': '(718) 858-4340', 'restaurant_id': 150842, 'price_range': '', 'menus': [], 'price_range_100': 0, 'cuisines': ['Indian'], 'restaurant_name': 'Dhaka Indian Restaurant'}, {'geo': {'lon': -73.993549, 'lat': 40.687242}, 'hours': '', 'address': {'city': 'Brooklyn', 'formatted': '194 Court Street Brooklyn, NY 11201', 'street': '194 Court Street', 'state': 'NY', 'postal_code': '11201'}, 'restaurant_phone': '(718) 858-0600', 'restaurant_id': 490544, 'price_range': '', 'menus': [], 'price_range_100': 0, 'cuisines': [], 'restaurant_name': \"Ana and Sophie's\"}, {'geo': {'lon': -73.993634, 'lat': 40.687035}, 'hours': 'Mon-Fri: 8am-4pm', 'address': {'city': 'Brooklyn', 'formatted': '270 Court St Brooklyn, NY 11231', 'street': '270 Court St', 'state': 'NY', 'postal_code': '11231'}, 'restaurant_phone': '(718) 855-6166', 'restaurant_id': 150786, 'price_range': '', 'menus': [], 'price_range_100': 0, 'cuisines': ['Salads', 'Sandwiches', 'Smoothies &amp; Juices'], 'restaurant_name': 'Nectar'}, {'geo': {'lon': -73.993521, 'lat': 40.687299}, 'hours': 'Mon-Fri: 8am-8pm  Sat-Sun: 9am-7pm', 'address': {'city': 'Brooklyn', 'formatted': '199 Court St Brooklyn, NY 11201', 'street': '199 Court St', 'state': 'NY', 'postal_code': '11201'}, 'restaurant_phone': '(718) 222-1661', 'restaurant_id': 250266, 'price_range': '', 'menus': [], 'price_range_100': 0, 'cuisines': ['Deli Food', 'Sandwiches'], 'restaurant_name': 'Cobblestone Foods'}, {'geo': {'lon': -73.995244, 'lat': 40.690638}, 'hours': 'Mon-Thu: 12pm-11pm   Fri: 12pm-12am   Sat: 11am-12am   Sun: 11am-11pm', 'address': {'city': 'Brooklyn', 'formatted': '145 Atlantic Ave Brooklyn, NY 11201', 'street': '145 Atlantic Ave', 'state': 'NY', 'postal_code': '11201'}, 'restaurant_phone': '(718) 855-6400', 'restaurant_id': 379346, 'price_range': '$$$$', 'menus': [], 'price_range_100': 4, 'cuisines': ['Italian', 'Pizza'], 'restaurant_name': \"Luzzo's BK\"}, {'geo': {'lon': -73.99383, 'lat': 40.686664}, 'hours': 'Daily: 11am-11pm', 'address': {'city': 'Brooklyn', 'formatted': '214 Court St Brooklyn, NY 11201', 'street': '214 Court St', 'state': 'NY', 'postal_code': '11201'}, 'restaurant_phone': '(718) 624-2361', 'restaurant_id': 150796, 'price_range': '', 'menus': [], 'price_range_100': 0, 'cuisines': ['Italian', 'Pizza'], 'restaurant_name': 'Layla Jones'}, {'geo': {'lon': -73.993828, 'lat': 40.686657}, 'hours': 'Mon-Fri: 12pm-11pm   Sat-Sun: 1pm-11pm', 'address': {'city': 'Brooklyn', 'formatted': '215 Court St Brooklyn, NY 11201', 'street': '215 Court St', 'state': 'NY', 'postal_code': '11201'}, 'restaurant_phone': '(718) 222-3484', 'restaurant_id': 150799, 'price_range': '$$', 'menus': [], 'price_range_100': 2, 'cuisines': ['Thai', 'Vegetarian'], 'restaurant_name': 'Joya'}, {'geo': {'lon': -73.997515, 'lat': 40.69113}, 'hours': 'Mon-Wed: 10am-6pm   Thu-Sun: 10am-7pm', 'address': {'city': 'Brooklyn', 'formatted': '81 Atlantic Ave Brooklyn, NY 11201', 'street': '81 Atlantic Ave', 'state': 'NY', 'postal_code': '11201'}, 'restaurant_phone': '(718) 923-9710', 'restaurant_id': 356581, 'price_range': '$', 'menus': [], 'price_range_100': 1, 'cuisines': ['American'], 'restaurant_name': 'The Moxie Spot'}, {'geo': {'lon': -73.993388, 'lat': 40.687575}, 'hours': 'Mon-Fri: 9am-7:45pm  Sat: 9am-6pm  Sun: 10am-5pm', 'address': {'city': 'Brooklyn', 'formatted': '191A Court St Brooklyn, NY 11201', 'street': '191A Court St', 'state': 'NY', 'postal_code': '11201'}, 'restaurant_phone': '(718) 246-1346', 'restaurant_id': 250267, 'price_range': '', 'menus': [], 'price_range_100': 0, 'cuisines': ['Seafood'], 'restaurant_name': 'Fish Tales'}, {'geo': {'lon': -73.995051, 'lat': 40.690585}, 'hours': 'Dinner  Daily: 5pm-10pm  Brunch  Sat-Sun: 11am-3pm', 'address': {'city': 'Brooklyn', 'formatted': '151 Atlantic Ave Brooklyn, NY 11201', 'street': '151 Atlantic Ave', 'state': 'NY', 'postal_code': '11201'}, 'restaurant_phone': '(718) 855-0051', 'restaurant_id': 363672, 'price_range': '$$$', 'menus': [], 'price_range_100': 3, 'cuisines': ['Italian'], 'restaurant_name': 'Red Gravy'}, {'geo': {'lon': -73.995185, 'lat': 40.690695}, 'hours': 'Mon-Wed: 4pm-11pm  Thu: 12pm-11pm  Fri-Sat: 12pm-2am  Sun: 12pm-11pm', 'address': {'city': 'Brooklyn', 'formatted': '145 Atlantic Ave Brooklyn, NY 11201', 'street': '145 Atlantic Ave', 'state': 'NY', 'postal_code': '11201'}, 'restaurant_phone': '(718) 855-6400', 'restaurant_id': 300146, 'price_range': '$$$', 'menus': [], 'price_range_100': 3, 'cuisines': ['Italian', 'Pizza', 'Sandwiches'], 'restaurant_name': 'Sosta Restaurant'}, {'geo': {'lon': -73.994305, 'lat': 40.685992}, 'hours': 'Tue-Thu: 5:30pm-10:30pm  Fri: 5:30pm-11pm  Sat: 11am-3:30pm+5:30pm-11pm  Sun: 11am-3:30pm+5:30pm-10:30pm', 'address': {'city': 'Brooklyn', 'formatted': '234 Court St Brooklyn, NY 11201', 'street': '234 Court St', 'state': 'NY', 'postal_code': '11201'}, 'restaurant_phone': '(347) 987-4961', 'restaurant_id': 355106, 'price_range': '$$', 'menus': [], 'price_range_100': 2, 'cuisines': ['American (New)', 'Italian'], 'restaurant_name': 'brucie'}, {'geo': {'lon': -73.996093, 'lat': 40.691045}, 'hours': 'Mon-Fri: 7am-10pm  Sat-Sun: 8am-10pm', 'address': {'city': 'Brooklyn', 'formatted': '311 Henry St Brooklyn, NY 11201', 'street': '311 Henry St', 'state': 'NY', 'postal_code': '11201'}, 'restaurant_phone': '(718) 243-0487', 'restaurant_id': 250286, 'price_range': '', 'menus': [], 'price_range_100': 0, 'cuisines': ['Coffee &amp; Tea', 'Sandwiches'], 'restaurant_name': 'Tazza'}, {'geo': {'lon': -73.997804, 'lat': 40.691191}, 'hours': '', 'address': {'city': 'BROOKLYN', 'formatted': '75 Atlantic Ave BROOKLYN, NY 11201', 'street': '75 Atlantic Ave', 'state': 'NY', 'postal_code': '11201'}, 'restaurant_phone': '(718) 522-1155', 'restaurant_id': 250285, 'price_range': '', 'menus': [], 'price_range_100': 0, 'cuisines': ['American', 'Deli Food'], 'restaurant_name': 'Heights Deli'}, {'geo': {'lon': -73.994048, 'lat': 40.686218}, 'hours': 'Daily: 9am-4pm; 5pm-11pm', 'address': {'city': 'BROOKLYN', 'formatted': '229 Court St BROOKLYN, NY 11201', 'street': '229 Court St', 'state': 'NY', 'postal_code': '11201'}, 'restaurant_phone': '(718) 522-2220', 'restaurant_id': 150803, 'price_range': '', 'menus': [], 'price_range_100': 0, 'cuisines': ['Mediterranean'], 'restaurant_name': 'Miriam'}], 'numResults': 25, 'page': 2, 'pages': 5, 'morePages': True}}\n"
    }
   ],
   "source": [
    "\n",
    "restaurants_info_json = get_restaurants_info()\n",
    "print(restaurants_info_json)"
   ]
  },
  {
   "cell_type": "code",
   "execution_count": 193,
   "metadata": {
    "tags": []
   },
   "outputs": [
    {
     "output_type": "stream",
     "name": "stdout",
     "text": "[309898, 509610, 250279, 250280, 150753, 489103, 386010, 250283, 367456, 284202, 150842, 490544, 150786, 250266, 379346, 150796, 150799, 356581, 250267, 363672, 300146, 355106, 250286, 250285, 150803]\n"
    }
   ],
   "source": [
    "restaurant_ids = get_ids_from_resonse(restaurants_info_json)\n",
    "print(restaurant_ids)"
   ]
  },
  {
   "cell_type": "code",
   "execution_count": 194,
   "metadata": {
    "tags": []
   },
   "outputs": [
    {
     "output_type": "stream",
     "name": "stdout",
     "text": "['Italian Pasta Pizza Seafood', '', 'Mediterranean Middle Eastern', 'Middle Eastern Pizza', 'Thai', '', 'Cocktails', 'Chinese', 'Coffee &amp; Tea', 'American Barbecue', 'Indian', '', 'Salads Sandwiches Smoothies &amp; Juices', 'Deli Food Sandwiches', 'Italian Pizza', 'Italian Pizza', 'Thai Vegetarian', 'American', 'Seafood', 'Italian', 'Italian Pizza Sandwiches', 'American (New) Italian', 'Coffee &amp; Tea Sandwiches', 'American Deli Food', 'Mediterranean']\n"
    }
   ],
   "source": [
    "restaurant_tags = get_tags_from_resonse(restaurants_info_json)\n",
    "print(restaurant_tags)"
   ]
  },
  {
   "cell_type": "code",
   "execution_count": 195,
   "metadata": {
    "tags": []
   },
   "outputs": [
    {
     "output_type": "stream",
     "name": "stdout",
     "text": "['american', 'amp', 'barbecue', 'chinese', 'cocktails', 'coffee', 'deli', 'eastern', 'food', 'indian', 'italian', 'juices', 'mediterranean', 'middle', 'new', 'pasta', 'pizza', 'salads', 'sandwiches', 'seafood', 'smoothies', 'tea', 'thai', 'vegetarian']\n[[1.         0.         0.         0.20404026 0.         0.\n  0.         0.         0.         0.         0.         0.\n  0.         0.         0.57876014 0.57876014 0.         0.\n  0.54089159 0.39583744 0.45558637 0.18279257 0.         0.\n  0.        ]]\n"
    }
   ],
   "source": [
    "similairties = calc_similarities(restaurant_tags)\n",
    "print(similairties)"
   ]
  },
  {
   "cell_type": "code",
   "execution_count": 196,
   "metadata": {
    "tags": []
   },
   "outputs": [
    {
     "output_type": "stream",
     "name": "stdout",
     "text": "[(0.9999999999999999, 309898), (0.57876013791234, 379346), (0.57876013791234, 150796), (0.540891585779221, 250267), (0.45558637404811614, 300146), (0.3958374417599965, 363672), (0.2040402600729245, 250280), (0.1827925704504811, 355106), (0.0, 509610), (0.0, 490544), (0.0, 489103), (0.0, 386010), (0.0, 367456), (0.0, 356581), (0.0, 284202), (0.0, 250286), (0.0, 250285), (0.0, 250283), (0.0, 250279), (0.0, 250266), (0.0, 150842), (0.0, 150803), (0.0, 150799), (0.0, 150786), (0.0, 150753)]\n"
    }
   ],
   "source": [
    "similairties_ids = rank_similarities(similairties, restaurant_ids)\n",
    "print(similairties_ids)"
   ]
  },
  {
   "cell_type": "code",
   "execution_count": null,
   "metadata": {},
   "outputs": [],
   "source": []
  }
 ],
 "metadata": {
  "kernelspec": {
   "display_name": "Python 3",
   "language": "python",
   "name": "python3"
  },
  "language_info": {
   "codemirror_mode": {
    "name": "ipython",
    "version": 3
   },
   "file_extension": ".py",
   "mimetype": "text/x-python",
   "name": "python",
   "nbconvert_exporter": "python",
   "pygments_lexer": "ipython3",
   "version": "3.8.2-final"
  }
 },
 "nbformat": 4,
 "nbformat_minor": 4
}