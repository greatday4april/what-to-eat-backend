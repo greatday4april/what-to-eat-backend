{
 "cells": [
  {
   "cell_type": "markdown",
   "metadata": {},
   "source": [
    "## Content-based Recommender  v1\n",
    "\n",
    "Yolanda"
   ]
  },
  {
   "cell_type": "code",
   "execution_count": 2,
   "metadata": {},
   "outputs": [],
   "source": [
    "import pandas as pd\n",
    "from sklearn.feature_extraction.text import TfidfVectorizer\n",
    "from sklearn.metrics.pairwise import linear_kernel\n",
    "\n",
    "ds = pd.read_csv(\"rest.csv\")"
   ]
  },
  {
   "cell_type": "markdown",
   "metadata": {},
   "source": [
    "input format:\n",
    " - two columns\n",
    " - id: restaurant names\n",
    " - description: Menu"
   ]
  },
  {
   "cell_type": "code",
   "execution_count": 3,
   "metadata": {},
   "outputs": [
    {
     "output_type": "execute_result",
     "data": {
      "text/plain": "                             id  \\\n0         Flavours Of Happiness   \n1        Apna Family Restaurant   \n2            Crystal Food Mania   \n3       Nitin Point & Fast Food   \n4  Sandesh Sweet and Restaurant   \n\n                                         description  \n0                                      Cafe, Italian  \n1  North Indian, Chinese, Continental, Biryani, F...  \n2                   Chinese, North Indian, Fast Food  \n3                North Indian, South Indian, Chinese  \n4        North Indian, South Indian, Chinese, Mithai  ",
      "text/html": "<div>\n<style scoped>\n    .dataframe tbody tr th:only-of-type {\n        vertical-align: middle;\n    }\n\n    .dataframe tbody tr th {\n        vertical-align: top;\n    }\n\n    .dataframe thead th {\n        text-align: right;\n    }\n</style>\n<table border=\"1\" class=\"dataframe\">\n  <thead>\n    <tr style=\"text-align: right;\">\n      <th></th>\n      <th>id</th>\n      <th>description</th>\n    </tr>\n  </thead>\n  <tbody>\n    <tr>\n      <th>0</th>\n      <td>Flavours Of Happiness</td>\n      <td>Cafe, Italian</td>\n    </tr>\n    <tr>\n      <th>1</th>\n      <td>Apna Family Restaurant</td>\n      <td>North Indian, Chinese, Continental, Biryani, F...</td>\n    </tr>\n    <tr>\n      <th>2</th>\n      <td>Crystal Food Mania</td>\n      <td>Chinese, North Indian, Fast Food</td>\n    </tr>\n    <tr>\n      <th>3</th>\n      <td>Nitin Point &amp; Fast Food</td>\n      <td>North Indian, South Indian, Chinese</td>\n    </tr>\n    <tr>\n      <th>4</th>\n      <td>Sandesh Sweet and Restaurant</td>\n      <td>North Indian, South Indian, Chinese, Mithai</td>\n    </tr>\n  </tbody>\n</table>\n</div>"
     },
     "metadata": {},
     "execution_count": 3
    }
   ],
   "source": [
    "ds.head()"
   ]
  },
  {
   "cell_type": "markdown",
   "metadata": {},
   "source": [
    "Code here"
   ]
  },
  {
   "cell_type": "code",
   "execution_count": 10,
   "metadata": {
    "tags": []
   },
   "outputs": [
    {
     "output_type": "stream",
     "name": "stdout",
     "text": "done!\nRecommending 5 products similar to Crystal Food ManiaChinese, North Indian, Fast Food\n-------\nName: NH 91\nMenu: Casual Dining,North Indian,Fast Food (score:0.6300945230395407)\nName: City Pleasantry\nMenu: Burger, Fast Food, Pizza, Chinese, North Indian, Rolls (score:0.33642339199695276)\nName: Shri Ram Anurag Restaurant\nMenu: Dhaba,Beverages,Chinese,North Indian (score:0.3056189992561704)\nName: Srinidhi Upachar\nMenu: Quick Bites,South Indian,Chinese,North Indian,Street Food (score:0.2833938642678497)\nName: Apna Fast Food Corner\nMenu: Fast Food, Chinese (score:0.25056392770897995)\n"
    }
   ],
   "source": [
    "tf = TfidfVectorizer(analyzer='word', ngram_range=(1, 3), min_df=0, stop_words='english')\n",
    "tfidf_matrix = tf.fit_transform(ds['description'])\n",
    "\n",
    "cosine_similarities = linear_kernel(tfidf_matrix, tfidf_matrix)\n",
    "\n",
    "results = {}\n",
    "\n",
    "for idx, row in ds.iterrows():\n",
    "    similar_indices = cosine_similarities[idx].argsort()[:-100:-1]\n",
    "    similar_items = [(cosine_similarities[idx][i], ds['id'][i]) for i in similar_indices]\n",
    "\n",
    "    results[row['id']] = similar_items[1:]\n",
    "    \n",
    "print('done!')\n",
    "\n",
    "def item(id):\n",
    "    return ds.loc[ds['id'] == id]['description'].tolist()[0].split(' - ')[0]\n",
    "\n",
    "# Just reads the results out of the dictionary.\n",
    "def recommend(item_id, num):\n",
    "    print(\"Recommending \" + str(num) + \" products similar to \" +item_id+  item(item_id) )\n",
    "    print(\"-------\")\n",
    "    recs = results[item_id][:num]\n",
    "\n",
    "    for rec in recs:\n",
    "        print( \"Name: \" + rec[1])\n",
    "        print(\"Menu: \"+ item(rec[1])  +\" (score:\" + str(rec[0]) + \")\")\n",
    "\n",
    "recommend(item_id=\"Crystal Food Mania\", num=5)"
   ]
  },
  {
   "cell_type": "code",
   "execution_count": 8,
   "metadata": {
    "tags": []
   },
   "outputs": [
    {
     "output_type": "stream",
     "name": "stdout",
     "text": "Recommending 5 products similar to Deena Chat BhandarStreet Food, Chinese\n-------\nName: Kashi Chat Bhandar\nMenu: Street Food (score:0.6358662701817323)\nName: Apna Fast Food Corner\nMenu: Fast Food, Chinese (score:0.396352286334636)\nName: Srinidhi Upachar\nMenu: Quick Bites,South Indian,Chinese,North Indian,Street Food (score:0.24819200078374237)\nName: Panchami Garden\nMenu: Quick Bites,South Indian,North Indian,Chinese,Street Food,Desserts,Beverages (score:0.20707977499111854)\nName: Agra Vala Sweets\nMenu: Quick Bites,Sweet Shop,Street Food,Mithai (score:0.20425863693404633)\n"
    }
   ],
   "source": [
    "recommend(item_id=\"Deena Chat Bhandar\", num=5)"
   ]
  },
  {
   "cell_type": "code",
   "execution_count": 12,
   "metadata": {
    "tags": []
   },
   "outputs": [
    {
     "output_type": "stream",
     "name": "stdout",
     "text": "Recommending 5 products similar to Energy StoreQuick Bites,North Indian\n-------\nName: Phulke Ghar Ke\nMenu: Quick Bites,North Indian (score:1.0)\nName: Samrith Grand\nMenu: Quick Bites,North Indian,Chinese (score:0.8739577185694873)\nName: Kareem's\nMenu: Quick Bites,North Indian,Mughlai (score:0.7811890934346164)\nName: Avon Biryani\nMenu: Quick Bites,Biryani,North Indian (score:0.26196033630250676)\nName: Suraksha Biriyani Paradise\nMenu: Quick Bites,Biryani,North Indian (score:0.26196033630250676)\n"
    }
   ],
   "source": [
    "recommend(item_id=\"Kareem's\", num=5)"
   ]
  },
  {
   "cell_type": "code",
   "execution_count": null,
   "metadata": {},
   "outputs": [],
   "source": []
  }
 ],
 "metadata": {
  "kernelspec": {
   "display_name": "Python 3",
   "language": "python",
   "name": "python3"
  },
  "language_info": {
   "codemirror_mode": {
    "name": "ipython",
    "version": 3
   },
   "file_extension": ".py",
   "mimetype": "text/x-python",
   "name": "python",
   "nbconvert_exporter": "python",
   "pygments_lexer": "ipython3",
   "version": "3.8.2-final"
  }
 },
 "nbformat": 4,
 "nbformat_minor": 4
}