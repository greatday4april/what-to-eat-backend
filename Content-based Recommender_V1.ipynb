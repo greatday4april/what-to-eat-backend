{
 "cells": [
  {
   "cell_type": "markdown",
   "metadata": {},
   "source": [
    "## Content-based Recommender  v1\n",
    "\n",
    "Yolanda"
   ]
  },
  {
   "cell_type": "code",
   "execution_count": null,
   "metadata": {},
   "outputs": [],
   "source": [
    "import pandas as pd\n",
    "from sklearn.feature_extraction.text import TfidfVectorizer\n",
    "from sklearn.metrics.pairwise import linear_kernel\n",
    "\n",
    "ds = pd.read_csv(\"rest.csv\")"
   ]
  },
  {
   "cell_type": "markdown",
   "metadata": {},
   "source": [
    "input format:\n",
    " - two columns\n",
    " - id: restaurant names\n",
    " - description: Menu"
   ]
  },
  {
   "cell_type": "code",
   "execution_count": 12,
   "metadata": {},
   "outputs": [
    {
     "data": {
      "text/html": [
       "<div>\n",
       "<style scoped>\n",
       "    .dataframe tbody tr th:only-of-type {\n",
       "        vertical-align: middle;\n",
       "    }\n",
       "\n",
       "    .dataframe tbody tr th {\n",
       "        vertical-align: top;\n",
       "    }\n",
       "\n",
       "    .dataframe thead th {\n",
       "        text-align: right;\n",
       "    }\n",
       "</style>\n",
       "<table border=\"1\" class=\"dataframe\">\n",
       "  <thead>\n",
       "    <tr style=\"text-align: right;\">\n",
       "      <th></th>\n",
       "      <th>id</th>\n",
       "      <th>description</th>\n",
       "    </tr>\n",
       "  </thead>\n",
       "  <tbody>\n",
       "    <tr>\n",
       "      <th>0</th>\n",
       "      <td>Flavours Of Happiness</td>\n",
       "      <td>Cafe, Italian</td>\n",
       "    </tr>\n",
       "    <tr>\n",
       "      <th>1</th>\n",
       "      <td>Apna Family Restaurant</td>\n",
       "      <td>North Indian, Chinese, Continental, Biryani, F...</td>\n",
       "    </tr>\n",
       "    <tr>\n",
       "      <th>2</th>\n",
       "      <td>Crystal Food Mania</td>\n",
       "      <td>Chinese, North Indian, Fast Food</td>\n",
       "    </tr>\n",
       "    <tr>\n",
       "      <th>3</th>\n",
       "      <td>Nitin Point &amp; Fast Food</td>\n",
       "      <td>North Indian, South Indian, Chinese</td>\n",
       "    </tr>\n",
       "    <tr>\n",
       "      <th>4</th>\n",
       "      <td>Sandesh Sweet and Restaurant</td>\n",
       "      <td>North Indian, South Indian, Chinese, Mithai</td>\n",
       "    </tr>\n",
       "  </tbody>\n",
       "</table>\n",
       "</div>"
      ],
      "text/plain": [
       "                             id  \\\n",
       "0         Flavours Of Happiness   \n",
       "1        Apna Family Restaurant   \n",
       "2            Crystal Food Mania   \n",
       "3       Nitin Point & Fast Food   \n",
       "4  Sandesh Sweet and Restaurant   \n",
       "\n",
       "                                         description  \n",
       "0                                      Cafe, Italian  \n",
       "1  North Indian, Chinese, Continental, Biryani, F...  \n",
       "2                   Chinese, North Indian, Fast Food  \n",
       "3                North Indian, South Indian, Chinese  \n",
       "4        North Indian, South Indian, Chinese, Mithai  "
      ]
     },
     "execution_count": 12,
     "metadata": {},
     "output_type": "execute_result"
    }
   ],
   "source": [
    "ds.head()"
   ]
  },
  {
   "cell_type": "markdown",
   "metadata": {},
   "source": [
    "Code here"
   ]
  },
  {
   "cell_type": "code",
   "execution_count": 31,
   "metadata": {},
   "outputs": [
    {
     "name": "stdout",
     "output_type": "stream",
     "text": [
      "done!\n",
      "Recommending 5 products similar to Crystal Food ManiaChinese, North Indian, Fast Food\n",
      "-------\n",
      "Name: NH 91\n",
      "Menu: Casual Dining,North Indian,Fast Food (score:0.6300945230395407)\n",
      "Name: City Pleasantry\n",
      "Menu: Burger, Fast Food, Pizza, Chinese, North Indian, Rolls (score:0.33642339199695276)\n",
      "Name: Shri Ram Anurag Restaurant\n",
      "Menu: Dhaba,Beverages,Chinese,North Indian (score:0.3056189992561704)\n",
      "Name: Srinidhi Upachar\n",
      "Menu: Quick Bites,South Indian,Chinese,North Indian,Street Food (score:0.2833938642678497)\n",
      "Name: Apna Fast Food Corner\n",
      "Menu: Fast Food, Chinese (score:0.25056392770897995)\n"
     ]
    }
   ],
   "source": [
    "tf = TfidfVectorizer(analyzer='word', ngram_range=(1, 3), min_df=0, stop_words='english')\n",
    "tfidf_matrix = tf.fit_transform(ds['description'])\n",
    "\n",
    "cosine_similarities = linear_kernel(tfidf_matrix, tfidf_matrix)\n",
    "\n",
    "results = {}\n",
    "\n",
    "for idx, row in ds.iterrows():\n",
    "    similar_indices = cosine_similarities[idx].argsort()[:-100:-1]\n",
    "    similar_items = [(cosine_similarities[idx][i], ds['id'][i]) for i in similar_indices]\n",
    "\n",
    "    results[row['id']] = similar_items[1:]\n",
    "    \n",
    "print('done!')\n",
    "\n",
    "def item(id):\n",
    "    return ds.loc[ds['id'] == id]['description'].tolist()[0].split(' - ')[0]\n",
    "\n",
    "# Just reads the results out of the dictionary.\n",
    "def recommend(item_id, num):\n",
    "    print(\"Recommending \" + str(num) + \" products similar to \" +item_id+  item(item_id) )\n",
    "    print(\"-------\")\n",
    "    recs = results[item_id][:num]\n",
    "\n",
    "    for rec in recs:\n",
    "        print( \"Name: \" + rec[1])\n",
    "        print(\"Menu: \"+ item(rec[1])  +\" (score:\" + str(rec[0]) + \")\")\n",
    "\n",
    "recommend(item_id=\"Crystal Food Mania\", num=5)"
   ]
  },
  {
   "cell_type": "code",
   "execution_count": 32,
   "metadata": {},
   "outputs": [
    {
     "name": "stdout",
     "output_type": "stream",
     "text": [
      "Recommending 5 products similar to Deena Chat BhandarStreet Food, Chinese\n",
      "-------\n",
      "Name: Kashi Chat Bhandar\n",
      "Menu: Street Food (score:0.6358662701817323)\n",
      "Name: Apna Fast Food Corner\n",
      "Menu: Fast Food, Chinese (score:0.396352286334636)\n",
      "Name: Srinidhi Upachar\n",
      "Menu: Quick Bites,South Indian,Chinese,North Indian,Street Food (score:0.24819200078374237)\n",
      "Name: Panchami Garden\n",
      "Menu: Quick Bites,South Indian,North Indian,Chinese,Street Food,Desserts,Beverages (score:0.20707977499111854)\n",
      "Name: Agra Vala Sweets\n",
      "Menu: Quick Bites,Sweet Shop,Street Food,Mithai (score:0.20425863693404633)\n"
     ]
    }
   ],
   "source": [
    "recommend(item_id=\"Deena Chat Bhandar\", num=5)"
   ]
  },
  {
   "cell_type": "code",
   "execution_count": 34,
   "metadata": {},
   "outputs": [
    {
     "name": "stdout",
     "output_type": "stream",
     "text": [
      "Recommending 5 products similar to Kareem'sQuick Bites,North Indian,Mughlai\n",
      "-------\n",
      "Name: Energy Store\n",
      "Menu: Quick Bites,North Indian (score:0.7811890934346164)\n",
      "Name: Phulke Ghar Ke\n",
      "Menu: Quick Bites,North Indian (score:0.7811890934346164)\n",
      "Name: Samrith Grand\n",
      "Menu: Quick Bites,North Indian,Chinese (score:0.6827262378694838)\n",
      "Name: Food Express\n",
      "Menu: North Indian, Mughlai, Chinese (score:0.48948796212508505)\n",
      "Name: Moti Mahal Delux\n",
      "Menu: Casual Dining,North Indian,Mughlai,Biryani (score:0.37601912179607144)\n"
     ]
    }
   ],
   "source": [
    "recommend(item_id=\"Kareem's\", num=5)"
   ]
  }
 ],
 "metadata": {
  "kernelspec": {
   "display_name": "Python 3",
   "language": "python",
   "name": "python3"
  },
  "language_info": {
   "codemirror_mode": {
    "name": "ipython",
    "version": 3
   },
   "file_extension": ".py",
   "mimetype": "text/x-python",
   "name": "python",
   "nbconvert_exporter": "python",
   "pygments_lexer": "ipython3",
   "version": "3.8.1"
  }
 },
 "nbformat": 4,
 "nbformat_minor": 4
}
